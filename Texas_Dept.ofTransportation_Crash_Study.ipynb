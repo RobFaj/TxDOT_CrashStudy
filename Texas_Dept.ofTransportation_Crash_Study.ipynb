{
 "cells": [
  {
   "cell_type": "code",
   "execution_count": 67,
   "metadata": {},
   "outputs": [],
   "source": [
    "#import pandas as pd\n",
    "import matplotlib.pyplot as plt\n",
    "import numpy as np\n",
    "import statsmodels.api as sm\n",
    "import math \n",
    "\n",
    "import os\n",
    "\n",
    "from sklearn.model_selection import train_test_split\n",
    "from sklearn.linear_model import LinearRegression\n",
    "from sklearn.metrics import mean_squared_error, r2_score, mean_absolute_error\n",
    "\n",
    "from scipy import stats\n",
    "from scipy.stats import kurtosis, skew\n",
    "\n",
    "%matplotlib inline\n",
    "import seaborn as sns\n",
    "from scipy import stats\n",
    "import matplotlib.pyplot as plt\n",
    "import matplotlib as mpl\n",
    "\n",
    "\n",
    "from statsmodels.stats import diagnostic as diag\n",
    "from statsmodels.stats.outliers_influence import variance_inflation_factor\n",
    "import matplotlib.pyplot as plt\n",
    "mpl.rc('axes', labelsize=14)\n",
    "mpl.rc('xtick', labelsize=12)\n",
    "mpl.rc('ytick', labelsize=12)\n",
    "PROJECT_ROOT_DIR = \".\"\n",
    "CHAPTER_ID = \"end_to_end_project\"\n",
    "PROJECT_ROOT_DIR = \".\"\n",
    "IMAGES_PATH = os.path.join(PROJECT_ROOT_DIR, \"images\", CHAPTER_ID)\n",
    "os.makedirs(IMAGES_PATH, exist_ok=True)\n",
    "\n",
    "def save_fig(fig_id, tight_layout=True, fig_extension=\"png\", resolution=300):\n",
    "    path = os.path.join(IMAGES_PATH, fig_id + \".\" + fig_extension)\n",
    "    print(\"Saving figure\", fig_id)\n",
    "    if tight_layout:\n",
    "        plt.tight_layout()\n",
    "    plt.savefig(path, format=fig_extension, dpi=resolution)\n",
    "\n",
    "\n",
    "\n",
    "\n",
    "%matplotlib inline"
   ]
  },
  {
   "cell_type": "code",
   "execution_count": null,
   "metadata": {},
   "outputs": [],
   "source": []
  },
  {
   "cell_type": "code",
   "execution_count": 68,
   "metadata": {},
   "outputs": [],
   "source": [
    "from IPython.core.interactiveshell import InteractiveShell\n",
    "InteractiveShell.ast_node_interactivity = \"all\""
   ]
  },
  {
   "cell_type": "code",
   "execution_count": 4,
   "metadata": {},
   "outputs": [],
   "source": [
    "import os\n",
    "import tarfile\n",
    "import urllib\n",
    "#import pandas as pd\n",
    "import pandas as pd\n",
    "path = pd.read_csv(\"dallashouston 1.csv\")\n"
   ]
  },
  {
   "cell_type": "markdown",
   "metadata": {},
   "source": [
    "## Data Preparation"
   ]
  },
  {
   "cell_type": "code",
   "execution_count": 5,
   "metadata": {},
   "outputs": [
    {
     "data": {
      "text/html": [
       "<div>\n",
       "<style scoped>\n",
       "    .dataframe tbody tr th:only-of-type {\n",
       "        vertical-align: middle;\n",
       "    }\n",
       "\n",
       "    .dataframe tbody tr th {\n",
       "        vertical-align: top;\n",
       "    }\n",
       "\n",
       "    .dataframe thead th {\n",
       "        text-align: right;\n",
       "    }\n",
       "</style>\n",
       "<table border=\"1\" class=\"dataframe\">\n",
       "  <thead>\n",
       "    <tr style=\"text-align: right;\">\n",
       "      <th></th>\n",
       "      <th>City</th>\n",
       "      <th>County</th>\n",
       "      <th>Crash_Year</th>\n",
       "      <th>Day_of_Week</th>\n",
       "      <th>Speed_Limit</th>\n",
       "      <th>TxDOT_Reportable_Flag</th>\n",
       "      <th>Weather_Condition</th>\n",
       "      <th>Weather</th>\n",
       "      <th>timeofday</th>\n",
       "      <th>Timeofday</th>\n",
       "      <th>...</th>\n",
       "      <th>Driver_License_Type</th>\n",
       "      <th>Unit_Death_Count</th>\n",
       "      <th>Vehicle_Body_Style</th>\n",
       "      <th>Vehicle_Color</th>\n",
       "      <th>Person_Age</th>\n",
       "      <th>Person_Ethnicity</th>\n",
       "      <th>Person_Gender</th>\n",
       "      <th>Person_Type</th>\n",
       "      <th>Person_Blood_Alcohol_ContentTest</th>\n",
       "      <th>Death_YorN</th>\n",
       "    </tr>\n",
       "  </thead>\n",
       "  <tbody>\n",
       "    <tr>\n",
       "      <th>0</th>\n",
       "      <td>DALLAS</td>\n",
       "      <td>DALLAS</td>\n",
       "      <td>2017</td>\n",
       "      <td>SUNDAY</td>\n",
       "      <td>45.0</td>\n",
       "      <td>Yes</td>\n",
       "      <td>3 - RAIN</td>\n",
       "      <td>1</td>\n",
       "      <td>morning</td>\n",
       "      <td>0</td>\n",
       "      <td>...</td>\n",
       "      <td>4 - ID CARD</td>\n",
       "      <td>1</td>\n",
       "      <td>SV - SPORT UTILITY VEHICLE</td>\n",
       "      <td>BLACK</td>\n",
       "      <td>21</td>\n",
       "      <td>B - BLACK</td>\n",
       "      <td>1 - MALE</td>\n",
       "      <td>1 - DRIVER</td>\n",
       "      <td>0.000</td>\n",
       "      <td>1</td>\n",
       "    </tr>\n",
       "    <tr>\n",
       "      <th>1</th>\n",
       "      <td>DALLAS</td>\n",
       "      <td>DALLAS</td>\n",
       "      <td>2017</td>\n",
       "      <td>SUNDAY</td>\n",
       "      <td>65.0</td>\n",
       "      <td>Yes</td>\n",
       "      <td>6 - FOG</td>\n",
       "      <td>1</td>\n",
       "      <td>overnight</td>\n",
       "      <td>1</td>\n",
       "      <td>...</td>\n",
       "      <td>4 - ID CARD</td>\n",
       "      <td>0</td>\n",
       "      <td>P4 - PASSENGER CAR, 4-DOOR</td>\n",
       "      <td>BROWN</td>\n",
       "      <td>28</td>\n",
       "      <td>B - BLACK</td>\n",
       "      <td>2 - FEMALE</td>\n",
       "      <td>1 - DRIVER</td>\n",
       "      <td>0.000</td>\n",
       "      <td>0</td>\n",
       "    </tr>\n",
       "    <tr>\n",
       "      <th>2</th>\n",
       "      <td>DALLAS</td>\n",
       "      <td>DALLAS</td>\n",
       "      <td>2017</td>\n",
       "      <td>SUNDAY</td>\n",
       "      <td>65.0</td>\n",
       "      <td>Yes</td>\n",
       "      <td>6 - FOG</td>\n",
       "      <td>1</td>\n",
       "      <td>overnight</td>\n",
       "      <td>1</td>\n",
       "      <td>...</td>\n",
       "      <td>1 - DRIVER LICENSE</td>\n",
       "      <td>1</td>\n",
       "      <td>NaN</td>\n",
       "      <td>NaN</td>\n",
       "      <td>23</td>\n",
       "      <td>B - BLACK</td>\n",
       "      <td>1 - MALE</td>\n",
       "      <td>4 - PEDESTRIAN</td>\n",
       "      <td>0.144</td>\n",
       "      <td>1</td>\n",
       "    </tr>\n",
       "    <tr>\n",
       "      <th>3</th>\n",
       "      <td>DALLAS</td>\n",
       "      <td>DALLAS</td>\n",
       "      <td>2017</td>\n",
       "      <td>SUNDAY</td>\n",
       "      <td>65.0</td>\n",
       "      <td>Yes</td>\n",
       "      <td>6 - FOG</td>\n",
       "      <td>1</td>\n",
       "      <td>overnight</td>\n",
       "      <td>1</td>\n",
       "      <td>...</td>\n",
       "      <td>1 - DRIVER LICENSE</td>\n",
       "      <td>0</td>\n",
       "      <td>SV - SPORT UTILITY VEHICLE</td>\n",
       "      <td>BLUE</td>\n",
       "      <td>25</td>\n",
       "      <td>W - WHITE</td>\n",
       "      <td>1 - MALE</td>\n",
       "      <td>1 - DRIVER</td>\n",
       "      <td>0.000</td>\n",
       "      <td>0</td>\n",
       "    </tr>\n",
       "    <tr>\n",
       "      <th>4</th>\n",
       "      <td>DALLAS</td>\n",
       "      <td>DALLAS</td>\n",
       "      <td>2017</td>\n",
       "      <td>MONDAY</td>\n",
       "      <td>40.0</td>\n",
       "      <td>Yes</td>\n",
       "      <td>1 - CLEAR</td>\n",
       "      <td>0</td>\n",
       "      <td>afternoon</td>\n",
       "      <td>0</td>\n",
       "      <td>...</td>\n",
       "      <td>4 - ID CARD</td>\n",
       "      <td>0</td>\n",
       "      <td>P4 - PASSENGER CAR, 4-DOOR</td>\n",
       "      <td>WHITE</td>\n",
       "      <td>21</td>\n",
       "      <td>B - BLACK</td>\n",
       "      <td>2 - FEMALE</td>\n",
       "      <td>1 - DRIVER</td>\n",
       "      <td>0.000</td>\n",
       "      <td>0</td>\n",
       "    </tr>\n",
       "  </tbody>\n",
       "</table>\n",
       "<p>5 rows × 22 columns</p>\n",
       "</div>"
      ],
      "text/plain": [
       "     City  County  Crash_Year Day_of_Week  Speed_Limit TxDOT_Reportable_Flag  \\\n",
       "0  DALLAS  DALLAS        2017      SUNDAY         45.0                   Yes   \n",
       "1  DALLAS  DALLAS        2017      SUNDAY         65.0                   Yes   \n",
       "2  DALLAS  DALLAS        2017      SUNDAY         65.0                   Yes   \n",
       "3  DALLAS  DALLAS        2017      SUNDAY         65.0                   Yes   \n",
       "4  DALLAS  DALLAS        2017      MONDAY         40.0                   Yes   \n",
       "\n",
       "  Weather_Condition  Weather  timeofday  Timeofday  ... Driver_License_Type  \\\n",
       "0          3 - RAIN        1    morning          0  ...         4 - ID CARD   \n",
       "1           6 - FOG        1  overnight          1  ...         4 - ID CARD   \n",
       "2           6 - FOG        1  overnight          1  ...  1 - DRIVER LICENSE   \n",
       "3           6 - FOG        1  overnight          1  ...  1 - DRIVER LICENSE   \n",
       "4         1 - CLEAR        0  afternoon          0  ...         4 - ID CARD   \n",
       "\n",
       "  Unit_Death_Count          Vehicle_Body_Style  Vehicle_Color Person_Age  \\\n",
       "0                1  SV - SPORT UTILITY VEHICLE          BLACK         21   \n",
       "1                0  P4 - PASSENGER CAR, 4-DOOR          BROWN         28   \n",
       "2                1                         NaN            NaN         23   \n",
       "3                0  SV - SPORT UTILITY VEHICLE           BLUE         25   \n",
       "4                0  P4 - PASSENGER CAR, 4-DOOR          WHITE         21   \n",
       "\n",
       "  Person_Ethnicity  Person_Gender     Person_Type  \\\n",
       "0        B - BLACK       1 - MALE      1 - DRIVER   \n",
       "1        B - BLACK     2 - FEMALE      1 - DRIVER   \n",
       "2        B - BLACK       1 - MALE  4 - PEDESTRIAN   \n",
       "3        W - WHITE       1 - MALE      1 - DRIVER   \n",
       "4        B - BLACK     2 - FEMALE      1 - DRIVER   \n",
       "\n",
       "  Person_Blood_Alcohol_ContentTest Death_YorN  \n",
       "0                            0.000          1  \n",
       "1                            0.000          0  \n",
       "2                            0.144          1  \n",
       "3                            0.000          0  \n",
       "4                            0.000          0  \n",
       "\n",
       "[5 rows x 22 columns]"
      ]
     },
     "execution_count": 5,
     "metadata": {},
     "output_type": "execute_result"
    }
   ],
   "source": [
    "# print the first five rows\n",
    "path.head()"
   ]
  },
  {
   "cell_type": "code",
   "execution_count": 6,
   "metadata": {},
   "outputs": [
    {
     "data": {
      "text/plain": [
       "City                                 object\n",
       "County                               object\n",
       "Crash_Year                            int64\n",
       "Day_of_Week                          object\n",
       "Speed_Limit                         float64\n",
       "TxDOT_Reportable_Flag                object\n",
       "Weather_Condition                    object\n",
       "Weather                               int64\n",
       "timeofday                            object\n",
       "Timeofday                             int64\n",
       "Driver_Alcohol_Result                object\n",
       "Driver_License_State                 object\n",
       "Driver_License_Type                  object\n",
       "Unit_Death_Count                      int64\n",
       "Vehicle_Body_Style                   object\n",
       "Vehicle_Color                        object\n",
       "Person_Age                            int64\n",
       "Person_Ethnicity                     object\n",
       "Person_Gender                        object\n",
       "Person_Type                          object\n",
       "Person_Blood_Alcohol_ContentTest    float64\n",
       "Death_YorN                            int64\n",
       "dtype: object"
      ]
     },
     "execution_count": 6,
     "metadata": {},
     "output_type": "execute_result"
    }
   ],
   "source": [
    "# check the data types, in this case everything looks fine no changes need to be made.\n",
    "path.dtypes"
   ]
  },
  {
   "cell_type": "code",
   "execution_count": 7,
   "metadata": {},
   "outputs": [
    {
     "name": "stdout",
     "output_type": "stream",
     "text": [
      "<class 'pandas.core.frame.DataFrame'>\n",
      "RangeIndex: 11476 entries, 0 to 11475\n",
      "Data columns (total 22 columns):\n",
      " #   Column                            Non-Null Count  Dtype  \n",
      "---  ------                            --------------  -----  \n",
      " 0   City                              11476 non-null  object \n",
      " 1   County                            11476 non-null  object \n",
      " 2   Crash_Year                        11476 non-null  int64  \n",
      " 3   Day_of_Week                       11476 non-null  object \n",
      " 4   Speed_Limit                       11420 non-null  float64\n",
      " 5   TxDOT_Reportable_Flag             11476 non-null  object \n",
      " 6   Weather_Condition                 11464 non-null  object \n",
      " 7   Weather                           11476 non-null  int64  \n",
      " 8   timeofday                         11476 non-null  object \n",
      " 9   Timeofday                         11476 non-null  int64  \n",
      " 10  Driver_Alcohol_Result             11476 non-null  object \n",
      " 11  Driver_License_State              8680 non-null   object \n",
      " 12  Driver_License_Type               9548 non-null   object \n",
      " 13  Unit_Death_Count                  11476 non-null  int64  \n",
      " 14  Vehicle_Body_Style                9744 non-null   object \n",
      " 15  Vehicle_Color                     9692 non-null   object \n",
      " 16  Person_Age                        11476 non-null  int64  \n",
      " 17  Person_Ethnicity                  11364 non-null  object \n",
      " 18  Person_Gender                     11476 non-null  object \n",
      " 19  Person_Type                       11472 non-null  object \n",
      " 20  Person_Blood_Alcohol_ContentTest  11476 non-null  float64\n",
      " 21  Death_YorN                        11476 non-null  int64  \n",
      "dtypes: float64(2), int64(6), object(14)\n",
      "memory usage: 1.9+ MB\n"
     ]
    }
   ],
   "source": [
    "path.info()"
   ]
  },
  {
   "cell_type": "code",
   "execution_count": 8,
   "metadata": {},
   "outputs": [],
   "source": [
    "df=path.copy()"
   ]
  },
  {
   "cell_type": "code",
   "execution_count": 9,
   "metadata": {},
   "outputs": [
    {
     "data": {
      "text/html": [
       "<div>\n",
       "<style scoped>\n",
       "    .dataframe tbody tr th:only-of-type {\n",
       "        vertical-align: middle;\n",
       "    }\n",
       "\n",
       "    .dataframe tbody tr th {\n",
       "        vertical-align: top;\n",
       "    }\n",
       "\n",
       "    .dataframe thead th {\n",
       "        text-align: right;\n",
       "    }\n",
       "</style>\n",
       "<table border=\"1\" class=\"dataframe\">\n",
       "  <thead>\n",
       "    <tr style=\"text-align: right;\">\n",
       "      <th></th>\n",
       "      <th>City</th>\n",
       "      <th>Crash_Year</th>\n",
       "      <th>Speed_Limit</th>\n",
       "      <th>Weather</th>\n",
       "      <th>Timeofday</th>\n",
       "      <th>Unit_Death_Count</th>\n",
       "      <th>Vehicle_Color</th>\n",
       "      <th>Person_Age</th>\n",
       "      <th>Person_Ethnicity</th>\n",
       "      <th>Person_Gender</th>\n",
       "      <th>Person_Blood_Alcohol_ContentTest</th>\n",
       "      <th>Death_YorN</th>\n",
       "    </tr>\n",
       "  </thead>\n",
       "  <tbody>\n",
       "    <tr>\n",
       "      <th>0</th>\n",
       "      <td>DALLAS</td>\n",
       "      <td>2017</td>\n",
       "      <td>45.0</td>\n",
       "      <td>1</td>\n",
       "      <td>0</td>\n",
       "      <td>1</td>\n",
       "      <td>BLACK</td>\n",
       "      <td>21</td>\n",
       "      <td>B - BLACK</td>\n",
       "      <td>1 - MALE</td>\n",
       "      <td>0.000</td>\n",
       "      <td>1</td>\n",
       "    </tr>\n",
       "    <tr>\n",
       "      <th>1</th>\n",
       "      <td>DALLAS</td>\n",
       "      <td>2017</td>\n",
       "      <td>65.0</td>\n",
       "      <td>1</td>\n",
       "      <td>1</td>\n",
       "      <td>0</td>\n",
       "      <td>BROWN</td>\n",
       "      <td>28</td>\n",
       "      <td>B - BLACK</td>\n",
       "      <td>2 - FEMALE</td>\n",
       "      <td>0.000</td>\n",
       "      <td>0</td>\n",
       "    </tr>\n",
       "    <tr>\n",
       "      <th>2</th>\n",
       "      <td>DALLAS</td>\n",
       "      <td>2017</td>\n",
       "      <td>65.0</td>\n",
       "      <td>1</td>\n",
       "      <td>1</td>\n",
       "      <td>1</td>\n",
       "      <td>NaN</td>\n",
       "      <td>23</td>\n",
       "      <td>B - BLACK</td>\n",
       "      <td>1 - MALE</td>\n",
       "      <td>0.144</td>\n",
       "      <td>1</td>\n",
       "    </tr>\n",
       "    <tr>\n",
       "      <th>3</th>\n",
       "      <td>DALLAS</td>\n",
       "      <td>2017</td>\n",
       "      <td>65.0</td>\n",
       "      <td>1</td>\n",
       "      <td>1</td>\n",
       "      <td>0</td>\n",
       "      <td>BLUE</td>\n",
       "      <td>25</td>\n",
       "      <td>W - WHITE</td>\n",
       "      <td>1 - MALE</td>\n",
       "      <td>0.000</td>\n",
       "      <td>0</td>\n",
       "    </tr>\n",
       "    <tr>\n",
       "      <th>4</th>\n",
       "      <td>DALLAS</td>\n",
       "      <td>2017</td>\n",
       "      <td>40.0</td>\n",
       "      <td>0</td>\n",
       "      <td>0</td>\n",
       "      <td>0</td>\n",
       "      <td>WHITE</td>\n",
       "      <td>21</td>\n",
       "      <td>B - BLACK</td>\n",
       "      <td>2 - FEMALE</td>\n",
       "      <td>0.000</td>\n",
       "      <td>0</td>\n",
       "    </tr>\n",
       "    <tr>\n",
       "      <th>...</th>\n",
       "      <td>...</td>\n",
       "      <td>...</td>\n",
       "      <td>...</td>\n",
       "      <td>...</td>\n",
       "      <td>...</td>\n",
       "      <td>...</td>\n",
       "      <td>...</td>\n",
       "      <td>...</td>\n",
       "      <td>...</td>\n",
       "      <td>...</td>\n",
       "      <td>...</td>\n",
       "      <td>...</td>\n",
       "    </tr>\n",
       "    <tr>\n",
       "      <th>11471</th>\n",
       "      <td>HOUSTON</td>\n",
       "      <td>2019</td>\n",
       "      <td>40.0</td>\n",
       "      <td>0</td>\n",
       "      <td>1</td>\n",
       "      <td>0</td>\n",
       "      <td>GRAY</td>\n",
       "      <td>39</td>\n",
       "      <td>B - BLACK</td>\n",
       "      <td>1 - MALE</td>\n",
       "      <td>0.000</td>\n",
       "      <td>0</td>\n",
       "    </tr>\n",
       "    <tr>\n",
       "      <th>11472</th>\n",
       "      <td>HOUSTON</td>\n",
       "      <td>2019</td>\n",
       "      <td>40.0</td>\n",
       "      <td>0</td>\n",
       "      <td>1</td>\n",
       "      <td>1</td>\n",
       "      <td>NaN</td>\n",
       "      <td>56</td>\n",
       "      <td>B - BLACK</td>\n",
       "      <td>1 - MALE</td>\n",
       "      <td>0.000</td>\n",
       "      <td>1</td>\n",
       "    </tr>\n",
       "    <tr>\n",
       "      <th>11473</th>\n",
       "      <td>HOUSTON</td>\n",
       "      <td>2019</td>\n",
       "      <td>30.0</td>\n",
       "      <td>0</td>\n",
       "      <td>1</td>\n",
       "      <td>1</td>\n",
       "      <td>BLUE</td>\n",
       "      <td>53</td>\n",
       "      <td>W - WHITE</td>\n",
       "      <td>1 - MALE</td>\n",
       "      <td>0.000</td>\n",
       "      <td>1</td>\n",
       "    </tr>\n",
       "    <tr>\n",
       "      <th>11474</th>\n",
       "      <td>HOUSTON</td>\n",
       "      <td>2019</td>\n",
       "      <td>35.0</td>\n",
       "      <td>0</td>\n",
       "      <td>1</td>\n",
       "      <td>1</td>\n",
       "      <td>SILVER</td>\n",
       "      <td>36</td>\n",
       "      <td>H - HISPANIC</td>\n",
       "      <td>1 - MALE</td>\n",
       "      <td>0.000</td>\n",
       "      <td>1</td>\n",
       "    </tr>\n",
       "    <tr>\n",
       "      <th>11475</th>\n",
       "      <td>HOUSTON</td>\n",
       "      <td>2019</td>\n",
       "      <td>35.0</td>\n",
       "      <td>0</td>\n",
       "      <td>1</td>\n",
       "      <td>1</td>\n",
       "      <td>SILVER</td>\n",
       "      <td>40</td>\n",
       "      <td>H - HISPANIC</td>\n",
       "      <td>2 - FEMALE</td>\n",
       "      <td>0.000</td>\n",
       "      <td>1</td>\n",
       "    </tr>\n",
       "  </tbody>\n",
       "</table>\n",
       "<p>11476 rows × 12 columns</p>\n",
       "</div>"
      ],
      "text/plain": [
       "          City  Crash_Year  Speed_Limit  Weather  Timeofday  Unit_Death_Count  \\\n",
       "0       DALLAS        2017         45.0        1          0                 1   \n",
       "1       DALLAS        2017         65.0        1          1                 0   \n",
       "2       DALLAS        2017         65.0        1          1                 1   \n",
       "3       DALLAS        2017         65.0        1          1                 0   \n",
       "4       DALLAS        2017         40.0        0          0                 0   \n",
       "...        ...         ...          ...      ...        ...               ...   \n",
       "11471  HOUSTON        2019         40.0        0          1                 0   \n",
       "11472  HOUSTON        2019         40.0        0          1                 1   \n",
       "11473  HOUSTON        2019         30.0        0          1                 1   \n",
       "11474  HOUSTON        2019         35.0        0          1                 1   \n",
       "11475  HOUSTON        2019         35.0        0          1                 1   \n",
       "\n",
       "      Vehicle_Color  Person_Age Person_Ethnicity Person_Gender  \\\n",
       "0             BLACK          21        B - BLACK      1 - MALE   \n",
       "1             BROWN          28        B - BLACK    2 - FEMALE   \n",
       "2               NaN          23        B - BLACK      1 - MALE   \n",
       "3              BLUE          25        W - WHITE      1 - MALE   \n",
       "4             WHITE          21        B - BLACK    2 - FEMALE   \n",
       "...             ...         ...              ...           ...   \n",
       "11471          GRAY          39        B - BLACK      1 - MALE   \n",
       "11472           NaN          56        B - BLACK      1 - MALE   \n",
       "11473          BLUE          53        W - WHITE      1 - MALE   \n",
       "11474        SILVER          36     H - HISPANIC      1 - MALE   \n",
       "11475        SILVER          40     H - HISPANIC    2 - FEMALE   \n",
       "\n",
       "       Person_Blood_Alcohol_ContentTest  Death_YorN  \n",
       "0                                 0.000           1  \n",
       "1                                 0.000           0  \n",
       "2                                 0.144           1  \n",
       "3                                 0.000           0  \n",
       "4                                 0.000           0  \n",
       "...                                 ...         ...  \n",
       "11471                             0.000           0  \n",
       "11472                             0.000           1  \n",
       "11473                             0.000           1  \n",
       "11474                             0.000           1  \n",
       "11475                             0.000           1  \n",
       "\n",
       "[11476 rows x 12 columns]"
      ]
     },
     "execution_count": 9,
     "metadata": {},
     "output_type": "execute_result"
    }
   ],
   "source": [
    "df2 = df.drop(['County','Day_of_Week','TxDOT_Reportable_Flag', 'Weather_Condition','timeofday','Driver_Alcohol_Result','Driver_License_State','Driver_License_Type','Person_Type','Vehicle_Body_Style'], axis=1)\n",
    "df2"
   ]
  },
  {
   "cell_type": "code",
   "execution_count": 10,
   "metadata": {},
   "outputs": [
    {
     "name": "stdout",
     "output_type": "stream",
     "text": [
      "<class 'pandas.core.frame.DataFrame'>\n",
      "RangeIndex: 11476 entries, 0 to 11475\n",
      "Data columns (total 12 columns):\n",
      " #   Column                            Non-Null Count  Dtype  \n",
      "---  ------                            --------------  -----  \n",
      " 0   City                              11476 non-null  object \n",
      " 1   Crash_Year                        11476 non-null  int64  \n",
      " 2   Speed_Limit                       11420 non-null  float64\n",
      " 3   Weather                           11476 non-null  int64  \n",
      " 4   Timeofday                         11476 non-null  int64  \n",
      " 5   Unit_Death_Count                  11476 non-null  int64  \n",
      " 6   Vehicle_Color                     9692 non-null   object \n",
      " 7   Person_Age                        11476 non-null  int64  \n",
      " 8   Person_Ethnicity                  11364 non-null  object \n",
      " 9   Person_Gender                     11476 non-null  object \n",
      " 10  Person_Blood_Alcohol_ContentTest  11476 non-null  float64\n",
      " 11  Death_YorN                        11476 non-null  int64  \n",
      "dtypes: float64(2), int64(6), object(4)\n",
      "memory usage: 1.1+ MB\n"
     ]
    }
   ],
   "source": [
    "df2.info()"
   ]
  },
  {
   "cell_type": "code",
   "execution_count": 11,
   "metadata": {},
   "outputs": [
    {
     "data": {
      "text/plain": [
       "City                                   0\n",
       "Crash_Year                             0\n",
       "Speed_Limit                           56\n",
       "Weather                                0\n",
       "Timeofday                              0\n",
       "Unit_Death_Count                       0\n",
       "Vehicle_Color                       1784\n",
       "Person_Age                             0\n",
       "Person_Ethnicity                     112\n",
       "Person_Gender                          0\n",
       "Person_Blood_Alcohol_ContentTest       0\n",
       "Death_YorN                             0\n",
       "dtype: int64"
      ]
     },
     "execution_count": 11,
     "metadata": {},
     "output_type": "execute_result"
    }
   ],
   "source": [
    "df2.isnull().sum()"
   ]
  },
  {
   "cell_type": "code",
   "execution_count": 12,
   "metadata": {},
   "outputs": [],
   "source": [
    "#Deleting \"Initial - \" before the ethnicity\n",
    "df2['Person_Ethnicity'] = df2['Person_Ethnicity'].str.lstrip('B')\n",
    "df2['Person_Ethnicity'] = df2['Person_Ethnicity'].str.lstrip('H')\n",
    "df2['Person_Ethnicity'] = df2['Person_Ethnicity'].str.lstrip('W')\n",
    "df2['Person_Ethnicity'] = df2['Person_Ethnicity'].str.lstrip('I')\n",
    "df2['Person_Ethnicity'] = df2['Person_Ethnicity'].str.lstrip('A')\n",
    "df2['Person_Ethnicity'] = df2['Person_Ethnicity'].str.lstrip('98')\n",
    "df2['Person_Ethnicity'] = df2['Person_Ethnicity'].str.strip(' ')\n",
    "df2['Person_Ethnicity'] = df2['Person_Ethnicity'].str.lstrip('-')\n",
    "df2['Person_Ethnicity'] = df2['Person_Ethnicity'].str.strip(' ')"
   ]
  },
  {
   "cell_type": "code",
   "execution_count": 13,
   "metadata": {},
   "outputs": [],
   "source": [
    "#Deleting \"1 -\" and \"2 -\" before Gender\n",
    "df2['Person_Gender'] = df2['Person_Gender'].str.lstrip('1')\n",
    "df2['Person_Gender'] = df2['Person_Gender'].str.lstrip('2')\n",
    "df2['Person_Gender'] = df2['Person_Gender'].str.strip(' ')\n",
    "df2['Person_Gender'] = df2['Person_Gender'].str.lstrip('-')\n",
    "df2['Person_Gender'] = df2['Person_Gender'].str.strip(' ')"
   ]
  },
  {
   "cell_type": "code",
   "execution_count": 14,
   "metadata": {},
   "outputs": [
    {
     "data": {
      "text/plain": [
       "HISPANIC    4212\n",
       "BLACK       3620\n",
       "WHITE       2848\n",
       "OTHER        372\n",
       "ASIAN        296\n",
       "AMER. IN      16\n",
       "Name: Person_Ethnicity, dtype: int64"
      ]
     },
     "execution_count": 14,
     "metadata": {},
     "output_type": "execute_result"
    }
   ],
   "source": [
    "df2['Person_Ethnicity'].value_counts()"
   ]
  },
  {
   "cell_type": "code",
   "execution_count": 15,
   "metadata": {},
   "outputs": [
    {
     "data": {
      "text/plain": [
       "MALE      8064\n",
       "FEMALE    3412\n",
       "Name: Person_Gender, dtype: int64"
      ]
     },
     "execution_count": 15,
     "metadata": {},
     "output_type": "execute_result"
    }
   ],
   "source": [
    "df2['Person_Gender'].value_counts()"
   ]
  },
  {
   "cell_type": "code",
   "execution_count": 16,
   "metadata": {},
   "outputs": [],
   "source": [
    "#Changing the data type of categorical variables\n",
    "df2['City'] = df2.City.astype('category')\n",
    "df2['Vehicle_Color'] = df2.Vehicle_Color.astype('category')\n",
    "df2['Person_Ethnicity'] = df2.Person_Ethnicity.astype('category')\n",
    "df2['Person_Gender'] = df2.Person_Gender.astype('category')\n",
    "df2['Weather'] = df2.Weather.astype('category')\n",
    "df2['Timeofday'] = df2.Timeofday.astype('category')\n",
    "df2['Death_YorN'] = df2.Death_YorN.astype('category')"
   ]
  },
  {
   "cell_type": "code",
   "execution_count": 17,
   "metadata": {},
   "outputs": [],
   "source": [
    "df2['Speed_Limit'] = df2['Speed_Limit'].fillna(df2['Speed_Limit'].mean())\n",
    "df2['Vehicle_Color'] = df2['Vehicle_Color'].fillna(df2['Vehicle_Color'].value_counts().index[0])\n",
    "df2['Person_Ethnicity'] = df2['Person_Ethnicity'].fillna(df2['Person_Ethnicity'].value_counts().index[0])"
   ]
  },
  {
   "cell_type": "code",
   "execution_count": 18,
   "metadata": {},
   "outputs": [
    {
     "name": "stdout",
     "output_type": "stream",
     "text": [
      "<class 'pandas.core.frame.DataFrame'>\n",
      "RangeIndex: 11476 entries, 0 to 11475\n",
      "Data columns (total 12 columns):\n",
      " #   Column                            Non-Null Count  Dtype   \n",
      "---  ------                            --------------  -----   \n",
      " 0   City                              11476 non-null  category\n",
      " 1   Crash_Year                        11476 non-null  int64   \n",
      " 2   Speed_Limit                       11476 non-null  float64 \n",
      " 3   Weather                           11476 non-null  category\n",
      " 4   Timeofday                         11476 non-null  category\n",
      " 5   Unit_Death_Count                  11476 non-null  int64   \n",
      " 6   Vehicle_Color                     11476 non-null  category\n",
      " 7   Person_Age                        11476 non-null  int64   \n",
      " 8   Person_Ethnicity                  11476 non-null  category\n",
      " 9   Person_Gender                     11476 non-null  category\n",
      " 10  Person_Blood_Alcohol_ContentTest  11476 non-null  float64 \n",
      " 11  Death_YorN                        11476 non-null  category\n",
      "dtypes: category(7), float64(2), int64(3)\n",
      "memory usage: 528.3 KB\n"
     ]
    }
   ],
   "source": [
    "df2.info()"
   ]
  },
  {
   "cell_type": "code",
   "execution_count": 19,
   "metadata": {},
   "outputs": [
    {
     "data": {
      "text/html": [
       "<div>\n",
       "<style scoped>\n",
       "    .dataframe tbody tr th:only-of-type {\n",
       "        vertical-align: middle;\n",
       "    }\n",
       "\n",
       "    .dataframe tbody tr th {\n",
       "        vertical-align: top;\n",
       "    }\n",
       "\n",
       "    .dataframe thead th {\n",
       "        text-align: right;\n",
       "    }\n",
       "</style>\n",
       "<table border=\"1\" class=\"dataframe\">\n",
       "  <thead>\n",
       "    <tr style=\"text-align: right;\">\n",
       "      <th></th>\n",
       "      <th>City</th>\n",
       "      <th>Crash_Year</th>\n",
       "      <th>Speed_Limit</th>\n",
       "      <th>Weather</th>\n",
       "      <th>Timeofday</th>\n",
       "      <th>Unit_Death_Count</th>\n",
       "      <th>Vehicle_Color</th>\n",
       "      <th>Person_Age</th>\n",
       "      <th>Person_Ethnicity</th>\n",
       "      <th>Person_Gender</th>\n",
       "      <th>Person_Blood_Alcohol_ContentTest</th>\n",
       "      <th>Death_YorN</th>\n",
       "    </tr>\n",
       "  </thead>\n",
       "  <tbody>\n",
       "    <tr>\n",
       "      <th>0</th>\n",
       "      <td>DALLAS</td>\n",
       "      <td>2017</td>\n",
       "      <td>45.0</td>\n",
       "      <td>1</td>\n",
       "      <td>0</td>\n",
       "      <td>1</td>\n",
       "      <td>BLACK</td>\n",
       "      <td>21</td>\n",
       "      <td>BLACK</td>\n",
       "      <td>MALE</td>\n",
       "      <td>0.000</td>\n",
       "      <td>1</td>\n",
       "    </tr>\n",
       "    <tr>\n",
       "      <th>1</th>\n",
       "      <td>DALLAS</td>\n",
       "      <td>2017</td>\n",
       "      <td>65.0</td>\n",
       "      <td>1</td>\n",
       "      <td>1</td>\n",
       "      <td>0</td>\n",
       "      <td>BROWN</td>\n",
       "      <td>28</td>\n",
       "      <td>BLACK</td>\n",
       "      <td>FEMALE</td>\n",
       "      <td>0.000</td>\n",
       "      <td>0</td>\n",
       "    </tr>\n",
       "    <tr>\n",
       "      <th>2</th>\n",
       "      <td>DALLAS</td>\n",
       "      <td>2017</td>\n",
       "      <td>65.0</td>\n",
       "      <td>1</td>\n",
       "      <td>1</td>\n",
       "      <td>1</td>\n",
       "      <td>WHITE</td>\n",
       "      <td>23</td>\n",
       "      <td>BLACK</td>\n",
       "      <td>MALE</td>\n",
       "      <td>0.144</td>\n",
       "      <td>1</td>\n",
       "    </tr>\n",
       "    <tr>\n",
       "      <th>3</th>\n",
       "      <td>DALLAS</td>\n",
       "      <td>2017</td>\n",
       "      <td>65.0</td>\n",
       "      <td>1</td>\n",
       "      <td>1</td>\n",
       "      <td>0</td>\n",
       "      <td>BLUE</td>\n",
       "      <td>25</td>\n",
       "      <td>WHITE</td>\n",
       "      <td>MALE</td>\n",
       "      <td>0.000</td>\n",
       "      <td>0</td>\n",
       "    </tr>\n",
       "    <tr>\n",
       "      <th>4</th>\n",
       "      <td>DALLAS</td>\n",
       "      <td>2017</td>\n",
       "      <td>40.0</td>\n",
       "      <td>0</td>\n",
       "      <td>0</td>\n",
       "      <td>0</td>\n",
       "      <td>WHITE</td>\n",
       "      <td>21</td>\n",
       "      <td>BLACK</td>\n",
       "      <td>FEMALE</td>\n",
       "      <td>0.000</td>\n",
       "      <td>0</td>\n",
       "    </tr>\n",
       "  </tbody>\n",
       "</table>\n",
       "</div>"
      ],
      "text/plain": [
       "     City  Crash_Year  Speed_Limit Weather Timeofday  Unit_Death_Count  \\\n",
       "0  DALLAS        2017         45.0       1         0                 1   \n",
       "1  DALLAS        2017         65.0       1         1                 0   \n",
       "2  DALLAS        2017         65.0       1         1                 1   \n",
       "3  DALLAS        2017         65.0       1         1                 0   \n",
       "4  DALLAS        2017         40.0       0         0                 0   \n",
       "\n",
       "  Vehicle_Color  Person_Age Person_Ethnicity Person_Gender  \\\n",
       "0         BLACK          21            BLACK          MALE   \n",
       "1         BROWN          28            BLACK        FEMALE   \n",
       "2         WHITE          23            BLACK          MALE   \n",
       "3          BLUE          25            WHITE          MALE   \n",
       "4         WHITE          21            BLACK        FEMALE   \n",
       "\n",
       "   Person_Blood_Alcohol_ContentTest Death_YorN  \n",
       "0                             0.000          1  \n",
       "1                             0.000          0  \n",
       "2                             0.144          1  \n",
       "3                             0.000          0  \n",
       "4                             0.000          0  "
      ]
     },
     "execution_count": 19,
     "metadata": {},
     "output_type": "execute_result"
    },
    {
     "data": {
      "text/html": [
       "<div>\n",
       "<style scoped>\n",
       "    .dataframe tbody tr th:only-of-type {\n",
       "        vertical-align: middle;\n",
       "    }\n",
       "\n",
       "    .dataframe tbody tr th {\n",
       "        vertical-align: top;\n",
       "    }\n",
       "\n",
       "    .dataframe thead th {\n",
       "        text-align: right;\n",
       "    }\n",
       "</style>\n",
       "<table border=\"1\" class=\"dataframe\">\n",
       "  <thead>\n",
       "    <tr style=\"text-align: right;\">\n",
       "      <th></th>\n",
       "      <th>City</th>\n",
       "      <th>Crash_Year</th>\n",
       "      <th>Speed_Limit</th>\n",
       "      <th>Weather</th>\n",
       "      <th>Timeofday</th>\n",
       "      <th>Unit_Death_Count</th>\n",
       "      <th>Vehicle_Color</th>\n",
       "      <th>Person_Age</th>\n",
       "      <th>Person_Ethnicity</th>\n",
       "      <th>Person_Gender</th>\n",
       "      <th>Person_Blood_Alcohol_ContentTest</th>\n",
       "      <th>Death_YorN</th>\n",
       "    </tr>\n",
       "  </thead>\n",
       "  <tbody>\n",
       "    <tr>\n",
       "      <th>5392</th>\n",
       "      <td>HOUSTON</td>\n",
       "      <td>2017</td>\n",
       "      <td>30.0</td>\n",
       "      <td>0</td>\n",
       "      <td>1</td>\n",
       "      <td>1</td>\n",
       "      <td>WHITE</td>\n",
       "      <td>24</td>\n",
       "      <td>HISPANIC</td>\n",
       "      <td>MALE</td>\n",
       "      <td>0.278</td>\n",
       "      <td>1</td>\n",
       "    </tr>\n",
       "    <tr>\n",
       "      <th>5393</th>\n",
       "      <td>HOUSTON</td>\n",
       "      <td>2017</td>\n",
       "      <td>40.0</td>\n",
       "      <td>0</td>\n",
       "      <td>0</td>\n",
       "      <td>1</td>\n",
       "      <td>WHITE</td>\n",
       "      <td>22</td>\n",
       "      <td>BLACK</td>\n",
       "      <td>MALE</td>\n",
       "      <td>0.000</td>\n",
       "      <td>1</td>\n",
       "    </tr>\n",
       "    <tr>\n",
       "      <th>5394</th>\n",
       "      <td>HOUSTON</td>\n",
       "      <td>2017</td>\n",
       "      <td>60.0</td>\n",
       "      <td>1</td>\n",
       "      <td>1</td>\n",
       "      <td>1</td>\n",
       "      <td>WHITE</td>\n",
       "      <td>30</td>\n",
       "      <td>BLACK</td>\n",
       "      <td>MALE</td>\n",
       "      <td>0.000</td>\n",
       "      <td>1</td>\n",
       "    </tr>\n",
       "    <tr>\n",
       "      <th>5395</th>\n",
       "      <td>HOUSTON</td>\n",
       "      <td>2017</td>\n",
       "      <td>60.0</td>\n",
       "      <td>1</td>\n",
       "      <td>1</td>\n",
       "      <td>1</td>\n",
       "      <td>YELLOW</td>\n",
       "      <td>32</td>\n",
       "      <td>WHITE</td>\n",
       "      <td>MALE</td>\n",
       "      <td>0.090</td>\n",
       "      <td>1</td>\n",
       "    </tr>\n",
       "    <tr>\n",
       "      <th>5396</th>\n",
       "      <td>HOUSTON</td>\n",
       "      <td>2017</td>\n",
       "      <td>60.0</td>\n",
       "      <td>1</td>\n",
       "      <td>1</td>\n",
       "      <td>0</td>\n",
       "      <td>WHITE</td>\n",
       "      <td>45</td>\n",
       "      <td>HISPANIC</td>\n",
       "      <td>MALE</td>\n",
       "      <td>0.000</td>\n",
       "      <td>0</td>\n",
       "    </tr>\n",
       "  </tbody>\n",
       "</table>\n",
       "</div>"
      ],
      "text/plain": [
       "         City  Crash_Year  Speed_Limit Weather Timeofday  Unit_Death_Count  \\\n",
       "5392  HOUSTON        2017         30.0       0         1                 1   \n",
       "5393  HOUSTON        2017         40.0       0         0                 1   \n",
       "5394  HOUSTON        2017         60.0       1         1                 1   \n",
       "5395  HOUSTON        2017         60.0       1         1                 1   \n",
       "5396  HOUSTON        2017         60.0       1         1                 0   \n",
       "\n",
       "     Vehicle_Color  Person_Age Person_Ethnicity Person_Gender  \\\n",
       "5392         WHITE          24         HISPANIC          MALE   \n",
       "5393         WHITE          22            BLACK          MALE   \n",
       "5394         WHITE          30            BLACK          MALE   \n",
       "5395        YELLOW          32            WHITE          MALE   \n",
       "5396         WHITE          45         HISPANIC          MALE   \n",
       "\n",
       "      Person_Blood_Alcohol_ContentTest Death_YorN  \n",
       "5392                             0.278          1  \n",
       "5393                             0.000          1  \n",
       "5394                             0.000          1  \n",
       "5395                             0.090          1  \n",
       "5396                             0.000          0  "
      ]
     },
     "execution_count": 19,
     "metadata": {},
     "output_type": "execute_result"
    }
   ],
   "source": [
    "#Splitting data between cities\n",
    "Dallas = df2[df2['City'] == 'DALLAS']\n",
    "Dallas.head()\n",
    "\n",
    "Houston = df2[df2['City'] == 'HOUSTON']\n",
    "Houston.head()"
   ]
  },
  {
   "cell_type": "markdown",
   "metadata": {},
   "source": [
    "## Data Exploration"
   ]
  },
  {
   "cell_type": "code",
   "execution_count": 20,
   "metadata": {},
   "outputs": [
    {
     "name": "stderr",
     "output_type": "stream",
     "text": [
      "/Users/bobbyfajardo/opt/anaconda3/lib/python3.8/site-packages/seaborn/categorical.py:3666: UserWarning: The `factorplot` function has been renamed to `catplot`. The original name will be removed in a future release. Please update your code. Note that the default `kind` in `factorplot` (`'point'`) has changed `'strip'` in `catplot`.\n",
      "  warnings.warn(msg)\n",
      "/Users/bobbyfajardo/opt/anaconda3/lib/python3.8/site-packages/seaborn/categorical.py:3672: UserWarning: The `size` parameter has been renamed to `height`; please update your code.\n",
      "  warnings.warn(msg, UserWarning)\n"
     ]
    },
    {
     "data": {
      "text/plain": [
       "<seaborn.axisgrid.FacetGrid at 0x105806f10>"
      ]
     },
     "execution_count": 20,
     "metadata": {},
     "output_type": "execute_result"
    },
    {
     "name": "stdout",
     "output_type": "stream",
     "text": [
      "                       Dallas Dataset\n"
     ]
    },
    {
     "data": {
      "image/png": "[encoded data removed]",
      "text/plain": [
       "<Figure size 396x360 with 1 Axes>"
      ]
     },
     "metadata": {
      "needs_background": "light"
     },
     "output_type": "display_data"
    }
   ],
   "source": [
    "import seaborn as sns\n",
    "sns.factorplot(x='Crash_Year',data=Dallas,kind='count',size=5,aspect=1.1)\n",
    "print(\"                       Dallas Dataset\")"
   ]
  },
  {
   "cell_type": "code",
   "execution_count": 21,
   "metadata": {},
   "outputs": [
    {
     "data": {
      "text/plain": [
       "<seaborn.axisgrid.FacetGrid at 0x105806a60>"
      ]
     },
     "execution_count": 21,
     "metadata": {},
     "output_type": "execute_result"
    },
    {
     "name": "stdout",
     "output_type": "stream",
     "text": [
      "                       Houston Dataset\n"
     ]
    },
    {
     "data": {
      "image/png": "[encoded data removed]",
      "text/plain": [
       "<Figure size 396x360 with 1 Axes>"
      ]
     },
     "metadata": {
      "needs_background": "light"
     },
     "output_type": "display_data"
    }
   ],
   "source": [
    "sns.factorplot(x='Crash_Year',data=Houston,kind='count',size=5,aspect=1.1)\n",
    "print(\"                       Houston Dataset\")"
   ]
  },
  {
   "cell_type": "code",
   "execution_count": 22,
   "metadata": {},
   "outputs": [
    {
     "data": {
      "text/plain": [
       "<seaborn.axisgrid.FacetGrid at 0x11b2e9c70>"
      ]
     },
     "execution_count": 22,
     "metadata": {},
     "output_type": "execute_result"
    },
    {
     "name": "stdout",
     "output_type": "stream",
     "text": [
      "                             Dallas Dataset\n"
     ]
    },
    {
     "data": {
      "image/png": "[encoded data removed]",
      "text/plain": [
       "<Figure size 720x360 with 1 Axes>"
      ]
     },
     "metadata": {
      "needs_background": "light"
     },
     "output_type": "display_data"
    }
   ],
   "source": [
    "sns.factorplot(x='Person_Ethnicity',data=Dallas,kind='count',size=5,aspect=2)\n",
    "print(\"                             Dallas Dataset\")"
   ]
  },
  {
   "cell_type": "code",
   "execution_count": 23,
   "metadata": {},
   "outputs": [
    {
     "data": {
      "text/plain": [
       "<seaborn.axisgrid.FacetGrid at 0x11b21a7c0>"
      ]
     },
     "execution_count": 23,
     "metadata": {},
     "output_type": "execute_result"
    },
    {
     "name": "stdout",
     "output_type": "stream",
     "text": [
      "                             Houston Dataset\n"
     ]
    },
    {
     "data": {
      "image/png": "[encoded data removed]",
      "text/plain": [
       "<Figure size 720x360 with 1 Axes>"
      ]
     },
     "metadata": {
      "needs_background": "light"
     },
     "output_type": "display_data"
    }
   ],
   "source": [
    "sns.factorplot(x='Person_Ethnicity',data=Houston,kind='count',size=5,aspect=2)\n",
    "print(\"                             Houston Dataset\")"
   ]
  },
  {
   "cell_type": "code",
   "execution_count": null,
   "metadata": {},
   "outputs": [],
   "source": []
  },
  {
   "cell_type": "code",
   "execution_count": 100,
   "metadata": {},
   "outputs": [
    {
     "data": {
      "text/plain": [
       "<matplotlib.axes._subplots.AxesSubplot at 0x122c410d0>"
      ]
     },
     "execution_count": 100,
     "metadata": {},
     "output_type": "execute_result"
    },
    {
     "data": {
      "image/png": "[encoded data removed]",
      "text/plain": [
       "<Figure size 432x288 with 2 Axes>"
      ]
     },
     "metadata": {
      "needs_background": "light"
     },
     "output_type": "display_data"
    }
   ],
   "source": [
    "# Finding the relations between the variables.\n",
    "\n",
    "#heatmap_Dallas = Dallas[['City','Crash_Year','Speed_Limit','Weather','Timeofday','Unit_Death_Count','Vehicle_Color','Person_Age','Person_Ethnicity','Person_Gender', 'Person_Blood_Alcohol_ContentTest', 'Death_YorN']]\n",
    "#heatmap_Dallas.head()\n",
    "\n",
    "# Finding the relations between the variables.\n",
    "#plt.figure(figsize=(40,20))\n",
    "#c= heatmap_Dallas.corr()\n",
    "#sns.heatmap(c,cmap='BrBG',annot=True)\n",
    "#c\n",
    "\n",
    "heatmap_Dallas = Dallas[['City','Crash_Year','Speed_Limit','Weather','Timeofday','Unit_Death_Count',\n",
    "                           'Vehicle_Color','Person_Age','Person_Ethnicity','Person_Gender', 'Person_Blood_Alcohol_ContentTest', 'Death_YorN']].corr()\n",
    "\n",
    "#heatmap_Houston.head()\n",
    "\n",
    "\n",
    " \n",
    "\n",
    "mask = np.array(heatmap_Dallas)\n",
    "# Turning the lower-triangle of the array to false\n",
    "mask[np.tril_indices_from(mask)] = False\n",
    "fig,ax = plt.subplots()\n",
    "sns.heatmap(heatmap_Dallas, \n",
    "            mask=mask,\n",
    "            vmax=.8, \n",
    "            square=True,\n",
    "            annot=True,\n",
    "            ax=ax)"
   ]
  },
  {
   "cell_type": "code",
   "execution_count": 101,
   "metadata": {},
   "outputs": [
    {
     "data": {
      "text/plain": [
       "<matplotlib.axes._subplots.AxesSubplot at 0x135dfa880>"
      ]
     },
     "execution_count": 101,
     "metadata": {},
     "output_type": "execute_result"
    },
    {
     "data": {
      "image/png": "[encoded data removed]",
      "text/plain": [
       "<Figure size 432x288 with 2 Axes>"
      ]
     },
     "metadata": {
      "needs_background": "light"
     },
     "output_type": "display_data"
    }
   ],
   "source": [
    "# Finding the relations between the variables.\n",
    "\n",
    "heatmap_Houston = Houston[['City','Crash_Year','Speed_Limit','Weather','Timeofday','Unit_Death_Count',\n",
    "                           'Vehicle_Color','Person_Age','Person_Ethnicity','Person_Gender', 'Person_Blood_Alcohol_ContentTest', 'Death_YorN']].corr()\n",
    "\n",
    "#heatmap_Houston.head()\n",
    "\n",
    "\n",
    " \n",
    "\n",
    "mask = np.array(heatmap_Houston)\n",
    "# Turning the lower-triangle of the array to false\n",
    "mask[np.tril_indices_from(mask)] = False\n",
    "fig,ax = plt.subplots()\n",
    "sns.heatmap(heatmap_Houston, \n",
    "            mask=mask,\n",
    "            vmax=.8, \n",
    "            square=True,\n",
    "            annot=True,\n",
    "            ax=ax)\n",
    "\n",
    "# Finding the relations between the variables.\n",
    "#plt.figure(figsize=(40,20))\n",
    "#c= heatmap_Houston.corr()\n",
    "#sns.heatmap(c,cmap='BrBG',annot=True)\n",
    "#c"
   ]
  },
  {
   "cell_type": "code",
   "execution_count": 96,
   "metadata": {},
   "outputs": [
    {
     "data": {
      "text/plain": [
       "array([[<matplotlib.axes._subplots.AxesSubplot object at 0x135fe1f40>,\n",
       "        <matplotlib.axes._subplots.AxesSubplot object at 0x135e4f4f0>],\n",
       "       [<matplotlib.axes._subplots.AxesSubplot object at 0x11fead250>,\n",
       "        <matplotlib.axes._subplots.AxesSubplot object at 0x11fed59d0>],\n",
       "       [<matplotlib.axes._subplots.AxesSubplot object at 0x11ff0a190>,\n",
       "        <matplotlib.axes._subplots.AxesSubplot object at 0x11ff32970>]],\n",
       "      dtype=object)"
      ]
     },
     "execution_count": 96,
     "metadata": {},
     "output_type": "execute_result"
    },
    {
     "name": "stdout",
     "output_type": "stream",
     "text": [
      "Saving figure Dallas_attribute_histogram_plots\n"
     ]
    },
    {
     "data": {
      "image/png": "[encoded data removed]",
      "text/plain": [
       "<Figure size 720x504 with 6 Axes>"
      ]
     },
     "metadata": {
      "needs_background": "light"
     },
     "output_type": "display_data"
    }
   ],
   "source": [
    "%matplotlib inline\n",
    "import matplotlib.pyplot as plt\n",
    "Dallas.hist(bins=50, figsize=(10,7))\n",
    "save_fig(\"Dallas_attribute_histogram_plots\")\n",
    "plt.show()"
   ]
  },
  {
   "cell_type": "code",
   "execution_count": 95,
   "metadata": {},
   "outputs": [
    {
     "data": {
      "text/plain": [
       "array([[<matplotlib.axes._subplots.AxesSubplot object at 0x1356a8dc0>,\n",
       "        <matplotlib.axes._subplots.AxesSubplot object at 0x13569f700>],\n",
       "       [<matplotlib.axes._subplots.AxesSubplot object at 0x13570d880>,\n",
       "        <matplotlib.axes._subplots.AxesSubplot object at 0x135a200a0>],\n",
       "       [<matplotlib.axes._subplots.AxesSubplot object at 0x135a537f0>,\n",
       "        <matplotlib.axes._subplots.AxesSubplot object at 0x135a7dfd0>]],\n",
       "      dtype=object)"
      ]
     },
     "execution_count": 95,
     "metadata": {},
     "output_type": "execute_result"
    },
    {
     "name": "stdout",
     "output_type": "stream",
     "text": [
      "Saving figure Houston_attribute_histogram_plots\n"
     ]
    },
    {
     "data": {
      "image/png": "[encoded data removed]",
      "text/plain": [
       "<Figure size 720x504 with 6 Axes>"
      ]
     },
     "metadata": {
      "needs_background": "light"
     },
     "output_type": "display_data"
    }
   ],
   "source": [
    "%matplotlib inline\n",
    "import matplotlib.pyplot as plt\n",
    "Houston.hist(bins=50, figsize=(10,7))\n",
    "save_fig(\"Houston_attribute_histogram_plots\")\n",
    "plt.show()"
   ]
  },
  {
   "cell_type": "code",
   "execution_count": 83,
   "metadata": {},
   "outputs": [
    {
     "data": {
      "text/plain": [
       "(array([1068., 1164.,  912.,  624.,  484.,  528.,  316.,  176.,   72.,\n",
       "          48.]),\n",
       " array([16. , 23.4, 30.8, 38.2, 45.6, 53. , 60.4, 67.8, 75.2, 82.6, 90. ]),\n",
       " <a list of 10 Patch objects>)"
      ]
     },
     "execution_count": 83,
     "metadata": {},
     "output_type": "execute_result"
    },
    {
     "data": {
      "text/plain": [
       "Text(0.5, 0, 'Person_Age')"
      ]
     },
     "execution_count": 83,
     "metadata": {},
     "output_type": "execute_result"
    },
    {
     "data": {
      "text/plain": [
       "Text(0, 0.5, 'Frequency')"
      ]
     },
     "execution_count": 83,
     "metadata": {},
     "output_type": "execute_result"
    },
    {
     "data": {
      "text/plain": [
       "Text(0.5, 1.0, 'Dallas Accident Age Range')"
      ]
     },
     "execution_count": 83,
     "metadata": {},
     "output_type": "execute_result"
    },
    {
     "data": {
      "text/plain": [
       "([<matplotlib.axis.YTick at 0x131385c40>,\n",
       "  <matplotlib.axis.YTick at 0x131385310>,\n",
       "  <matplotlib.axis.YTick at 0x128d4a940>,\n",
       "  <matplotlib.axis.YTick at 0x130d2a430>,\n",
       "  <matplotlib.axis.YTick at 0x130d4a0d0>,\n",
       "  <matplotlib.axis.YTick at 0x130d4ac70>],\n",
       " <a list of 6 Text major ticklabel objects>)"
      ]
     },
     "execution_count": 83,
     "metadata": {},
     "output_type": "execute_result"
    },
    {
     "data": {
      "image/png": "[encoded data removed]",
      "text/plain": [
       "<Figure size 432x288 with 1 Axes>"
      ]
     },
     "metadata": {
      "needs_background": "light"
     },
     "output_type": "display_data"
    }
   ],
   "source": [
    "Dallas_Person_Age  = Dallas['Person_Age']\n",
    "#To plot 'Value'\n",
    "plt.hist(Dallas_Person_Age,10,facecolor='darkblue')    #  (dataframe,no. of bins, color)\n",
    "\n",
    "plt.xlabel('Person_Age')\n",
    "plt.ylabel('Frequency')\n",
    "plt.title('Dallas Accident Age Range')\n",
    "plt.yticks(np.arange(0, 1500, 250))"
   ]
  },
  {
   "cell_type": "code",
   "execution_count": 84,
   "metadata": {},
   "outputs": [
    {
     "data": {
      "text/plain": [
       "(array([1644., 1420., 1028.,  868.,  660.,  320.,  104.,   24.,   12.,\n",
       "           4.]),\n",
       " array([ 16. ,  26.1,  36.2,  46.3,  56.4,  66.5,  76.6,  86.7,  96.8,\n",
       "        106.9, 117. ]),\n",
       " <a list of 10 Patch objects>)"
      ]
     },
     "execution_count": 84,
     "metadata": {},
     "output_type": "execute_result"
    },
    {
     "data": {
      "text/plain": [
       "Text(0.5, 0, 'Person_Age')"
      ]
     },
     "execution_count": 84,
     "metadata": {},
     "output_type": "execute_result"
    },
    {
     "data": {
      "text/plain": [
       "Text(0, 0.5, 'Frequency')"
      ]
     },
     "execution_count": 84,
     "metadata": {},
     "output_type": "execute_result"
    },
    {
     "data": {
      "text/plain": [
       "Text(0.5, 1.0, 'Houston Accident Age Range')"
      ]
     },
     "execution_count": 84,
     "metadata": {},
     "output_type": "execute_result"
    },
    {
     "data": {
      "text/plain": [
       "([<matplotlib.axis.YTick at 0x11abe7b50>,\n",
       "  <matplotlib.axis.YTick at 0x13199fc40>,\n",
       "  <matplotlib.axis.YTick at 0x11fbee130>,\n",
       "  <matplotlib.axis.YTick at 0x11f89b040>,\n",
       "  <matplotlib.axis.YTick at 0x11f89b970>,\n",
       "  <matplotlib.axis.YTick at 0x11f8a71f0>],\n",
       " <a list of 6 Text major ticklabel objects>)"
      ]
     },
     "execution_count": 84,
     "metadata": {},
     "output_type": "execute_result"
    },
    {
     "data": {
      "image/png": "[encoded data removed]",
      "text/plain": [
       "<Figure size 432x288 with 1 Axes>"
      ]
     },
     "metadata": {
      "needs_background": "light"
     },
     "output_type": "display_data"
    }
   ],
   "source": [
    "Houston_Person_Age = Houston['Person_Age']\n",
    "#To plot 'Value'\n",
    "plt.hist(Houston_Person_Age,10,facecolor='red')    #  (dataframe,no. of bins, color)\n",
    "\n",
    "plt.xlabel('Person_Age')\n",
    "plt.ylabel('Frequency')\n",
    "plt.title('Houston Accident Age Range')\n",
    "plt.yticks(np.arange(0, 1500, 250))"
   ]
  },
  {
   "cell_type": "code",
   "execution_count": 112,
   "metadata": {},
   "outputs": [
    {
     "data": {
      "text/plain": [
       "(array([1584.,    0.,    0.,    0.,    0.,    0.,    0.,    0.,    0.,\n",
       "        3808.]),\n",
       " array([0. , 0.1, 0.2, 0.3, 0.4, 0.5, 0.6, 0.7, 0.8, 0.9, 1. ]),\n",
       " <a list of 10 Patch objects>)"
      ]
     },
     "execution_count": 112,
     "metadata": {},
     "output_type": "execute_result"
    },
    {
     "data": {
      "text/plain": [
       "Text(0.5, 0, 'Time of Day')"
      ]
     },
     "execution_count": 112,
     "metadata": {},
     "output_type": "execute_result"
    },
    {
     "data": {
      "text/plain": [
       "Text(0, 0.5, 'Frequency')"
      ]
     },
     "execution_count": 112,
     "metadata": {},
     "output_type": "execute_result"
    },
    {
     "data": {
      "text/plain": [
       "Text(0.5, 1.0, 'Dallas Time of Day: 1 is Night and 0 is Day')"
      ]
     },
     "execution_count": 112,
     "metadata": {},
     "output_type": "execute_result"
    },
    {
     "data": {
      "image/png": "[encoded data removed]",
      "text/plain": [
       "<Figure size 432x288 with 1 Axes>"
      ]
     },
     "metadata": {
      "needs_background": "light"
     },
     "output_type": "display_data"
    }
   ],
   "source": [
    "#Dallas[\"Crash_Time\"].hist()\n",
    "plt.hist(Dallas[\"Timeofday\"], color = \"darkblue\", lw=0)\n",
    "\n",
    "plt.xlabel('Time of Day')\n",
    "plt.ylabel('Frequency')\n",
    "plt.title('Dallas Time of Day: 1 is Night and 0 is Day')"
   ]
  },
  {
   "cell_type": "code",
   "execution_count": 113,
   "metadata": {},
   "outputs": [
    {
     "data": {
      "text/plain": [
       "(array([2112.,    0.,    0.,    0.,    0.,    0.,    0.,    0.,    0.,\n",
       "        3972.]),\n",
       " array([0. , 0.1, 0.2, 0.3, 0.4, 0.5, 0.6, 0.7, 0.8, 0.9, 1. ]),\n",
       " <a list of 10 Patch objects>)"
      ]
     },
     "execution_count": 113,
     "metadata": {},
     "output_type": "execute_result"
    },
    {
     "data": {
      "text/plain": [
       "Text(0.5, 0, 'Time of Day')"
      ]
     },
     "execution_count": 113,
     "metadata": {},
     "output_type": "execute_result"
    },
    {
     "data": {
      "text/plain": [
       "Text(0, 0.5, 'Frequency')"
      ]
     },
     "execution_count": 113,
     "metadata": {},
     "output_type": "execute_result"
    },
    {
     "data": {
      "text/plain": [
       "Text(0.5, 1.0, 'Houston Time of Day: 1 is Night and 0 is Day')"
      ]
     },
     "execution_count": 113,
     "metadata": {},
     "output_type": "execute_result"
    },
    {
     "data": {
      "image/png": "[encoded data removed]",
      "text/plain": [
       "<Figure size 432x288 with 1 Axes>"
      ]
     },
     "metadata": {
      "needs_background": "light"
     },
     "output_type": "display_data"
    }
   ],
   "source": [
    "#Houston[\"Crash_Time\"].hist()\n",
    "\n",
    "\n",
    "plt.hist(Houston[\"Timeofday\"], color = \"red\", lw=0)\n",
    "\n",
    "plt.xlabel('Time of Day')\n",
    "plt.ylabel('Frequency')\n",
    "plt.title('Houston Time of Day: 1 is Night and 0 is Day')\n"
   ]
  },
  {
   "cell_type": "code",
   "execution_count": 51,
   "metadata": {},
   "outputs": [],
   "source": [
    "import seaborn as sns #visualisation\n",
    "import matplotlib.pyplot as plt #visualisation\n",
    "%matplotlib inline \n",
    "sns.set(color_codes=True)\n"
   ]
  },
  {
   "cell_type": "code",
   "execution_count": 114,
   "metadata": {},
   "outputs": [
    {
     "data": {
      "text/plain": [
       "<matplotlib.axes._subplots.AxesSubplot at 0x1234f4fd0>"
      ]
     },
     "execution_count": 114,
     "metadata": {},
     "output_type": "execute_result"
    },
    {
     "data": {
      "text/plain": [
       "Text(0.5, 1.0, 'Dallas: Person Age and Gender')"
      ]
     },
     "execution_count": 114,
     "metadata": {},
     "output_type": "execute_result"
    },
    {
     "data": {
      "image/png": "[encoded data removed]",
      "text/plain": [
       "<Figure size 432x288 with 1 Axes>"
      ]
     },
     "metadata": {
      "needs_background": "light"
     },
     "output_type": "display_data"
    }
   ],
   "source": [
    "#Detecting Outliers for Person\n",
    "sns.boxplot(x=Dallas['Person_Gender'], y=Dallas['Person_Age'])\n",
    "plt.title('Dallas: Person Age and Gender')"
   ]
  },
  {
   "cell_type": "code",
   "execution_count": 115,
   "metadata": {},
   "outputs": [
    {
     "data": {
      "text/plain": [
       "<matplotlib.axes._subplots.AxesSubplot at 0x1235e5d90>"
      ]
     },
     "execution_count": 115,
     "metadata": {},
     "output_type": "execute_result"
    },
    {
     "data": {
      "text/plain": [
       "Text(0.5, 1.0, 'Dallas: Person Age and Ethnicity')"
      ]
     },
     "execution_count": 115,
     "metadata": {},
     "output_type": "execute_result"
    },
    {
     "data": {
      "image/png": "[encoded data removed]",
      "text/plain": [
       "<Figure size 432x288 with 1 Axes>"
      ]
     },
     "metadata": {
      "needs_background": "light"
     },
     "output_type": "display_data"
    }
   ],
   "source": [
    "sns.boxplot(x=Dallas['Person_Ethnicity'], y=Dallas['Person_Age'])\n",
    "plt.title('Dallas: Person Age and Ethnicity')"
   ]
  },
  {
   "cell_type": "code",
   "execution_count": null,
   "metadata": {},
   "outputs": [],
   "source": []
  },
  {
   "cell_type": "code",
   "execution_count": 116,
   "metadata": {},
   "outputs": [
    {
     "data": {
      "text/plain": [
       "<matplotlib.axes._subplots.AxesSubplot at 0x123716dc0>"
      ]
     },
     "execution_count": 116,
     "metadata": {},
     "output_type": "execute_result"
    },
    {
     "data": {
      "text/plain": [
       "Text(0.5, 1.0, 'Houston: Person Age and Gender')"
      ]
     },
     "execution_count": 116,
     "metadata": {},
     "output_type": "execute_result"
    },
    {
     "data": {
      "image/png": "[encoded data removed]",
      "text/plain": [
       "<Figure size 432x288 with 1 Axes>"
      ]
     },
     "metadata": {
      "needs_background": "light"
     },
     "output_type": "display_data"
    }
   ],
   "source": [
    "sns.boxplot(x=Houston['Person_Gender'], y=Houston['Person_Age'])\n",
    "plt.title('Houston: Person Age and Gender')"
   ]
  },
  {
   "cell_type": "code",
   "execution_count": 117,
   "metadata": {},
   "outputs": [
    {
     "data": {
      "text/plain": [
       "<matplotlib.axes._subplots.AxesSubplot at 0x1237e72b0>"
      ]
     },
     "execution_count": 117,
     "metadata": {},
     "output_type": "execute_result"
    },
    {
     "data": {
      "text/plain": [
       "Text(0.5, 1.0, 'Houston: Person Age and Ethnicity')"
      ]
     },
     "execution_count": 117,
     "metadata": {},
     "output_type": "execute_result"
    },
    {
     "data": {
      "image/png": "[encoded data removed]",
      "text/plain": [
       "<Figure size 432x288 with 1 Axes>"
      ]
     },
     "metadata": {
      "needs_background": "light"
     },
     "output_type": "display_data"
    }
   ],
   "source": [
    "sns.boxplot(x=Houston['Person_Ethnicity'], y=Houston['Person_Age'])\n",
    "plt.title('Houston: Person Age and Ethnicity')"
   ]
  },
  {
   "cell_type": "code",
   "execution_count": null,
   "metadata": {},
   "outputs": [],
   "source": []
  },
  {
   "cell_type": "code",
   "execution_count": null,
   "metadata": {},
   "outputs": [],
   "source": []
  },
  {
   "cell_type": "code",
   "execution_count": null,
   "metadata": {},
   "outputs": [],
   "source": []
  },
  {
   "cell_type": "code",
   "execution_count": null,
   "metadata": {},
   "outputs": [],
   "source": []
  },
  {
   "cell_type": "code",
   "execution_count": null,
   "metadata": {},
   "outputs": [],
   "source": []
  },
  {
   "cell_type": "code",
   "execution_count": null,
   "metadata": {},
   "outputs": [],
   "source": []
  },
  {
   "cell_type": "markdown",
   "metadata": {},
   "source": [
    "## Feature Engineering"
   ]
  },
  {
   "cell_type": "markdown",
   "metadata": {},
   "source": [
    "##### Dummy coding"
   ]
  },
  {
   "cell_type": "code",
   "execution_count": 58,
   "metadata": {},
   "outputs": [
    {
     "data": {
      "text/html": [
       "<div>\n",
       "<style scoped>\n",
       "    .dataframe tbody tr th:only-of-type {\n",
       "        vertical-align: middle;\n",
       "    }\n",
       "\n",
       "    .dataframe tbody tr th {\n",
       "        vertical-align: top;\n",
       "    }\n",
       "\n",
       "    .dataframe thead th {\n",
       "        text-align: right;\n",
       "    }\n",
       "</style>\n",
       "<table border=\"1\" class=\"dataframe\">\n",
       "  <thead>\n",
       "    <tr style=\"text-align: right;\">\n",
       "      <th></th>\n",
       "      <th>City</th>\n",
       "      <th>Crash_Year</th>\n",
       "      <th>Speed_Limit</th>\n",
       "      <th>Weather</th>\n",
       "      <th>Timeofday</th>\n",
       "      <th>Unit_Death_Count</th>\n",
       "      <th>Person_Age</th>\n",
       "      <th>Person_Blood_Alcohol_ContentTest</th>\n",
       "      <th>Death_YorN</th>\n",
       "      <th>Vehicle_Color_BLACK</th>\n",
       "      <th>...</th>\n",
       "      <th>Vehicle_Color_RED</th>\n",
       "      <th>Vehicle_Color_SILVER</th>\n",
       "      <th>Vehicle_Color_WHITE</th>\n",
       "      <th>Vehicle_Color_YELLOW</th>\n",
       "      <th>Person_Ethnicity_ASIAN</th>\n",
       "      <th>Person_Ethnicity_BLACK</th>\n",
       "      <th>Person_Ethnicity_HISPANIC</th>\n",
       "      <th>Person_Ethnicity_OTHER</th>\n",
       "      <th>Person_Ethnicity_WHITE</th>\n",
       "      <th>Person_Gender_MALE</th>\n",
       "    </tr>\n",
       "  </thead>\n",
       "  <tbody>\n",
       "    <tr>\n",
       "      <th>0</th>\n",
       "      <td>DALLAS</td>\n",
       "      <td>2017</td>\n",
       "      <td>45.0</td>\n",
       "      <td>1</td>\n",
       "      <td>0</td>\n",
       "      <td>1</td>\n",
       "      <td>21</td>\n",
       "      <td>0.000</td>\n",
       "      <td>1</td>\n",
       "      <td>1</td>\n",
       "      <td>...</td>\n",
       "      <td>0</td>\n",
       "      <td>0</td>\n",
       "      <td>0</td>\n",
       "      <td>0</td>\n",
       "      <td>0</td>\n",
       "      <td>1</td>\n",
       "      <td>0</td>\n",
       "      <td>0</td>\n",
       "      <td>0</td>\n",
       "      <td>1</td>\n",
       "    </tr>\n",
       "    <tr>\n",
       "      <th>1</th>\n",
       "      <td>DALLAS</td>\n",
       "      <td>2017</td>\n",
       "      <td>65.0</td>\n",
       "      <td>1</td>\n",
       "      <td>1</td>\n",
       "      <td>0</td>\n",
       "      <td>28</td>\n",
       "      <td>0.000</td>\n",
       "      <td>0</td>\n",
       "      <td>0</td>\n",
       "      <td>...</td>\n",
       "      <td>0</td>\n",
       "      <td>0</td>\n",
       "      <td>0</td>\n",
       "      <td>0</td>\n",
       "      <td>0</td>\n",
       "      <td>1</td>\n",
       "      <td>0</td>\n",
       "      <td>0</td>\n",
       "      <td>0</td>\n",
       "      <td>0</td>\n",
       "    </tr>\n",
       "    <tr>\n",
       "      <th>2</th>\n",
       "      <td>DALLAS</td>\n",
       "      <td>2017</td>\n",
       "      <td>65.0</td>\n",
       "      <td>1</td>\n",
       "      <td>1</td>\n",
       "      <td>1</td>\n",
       "      <td>23</td>\n",
       "      <td>0.144</td>\n",
       "      <td>1</td>\n",
       "      <td>0</td>\n",
       "      <td>...</td>\n",
       "      <td>0</td>\n",
       "      <td>0</td>\n",
       "      <td>1</td>\n",
       "      <td>0</td>\n",
       "      <td>0</td>\n",
       "      <td>1</td>\n",
       "      <td>0</td>\n",
       "      <td>0</td>\n",
       "      <td>0</td>\n",
       "      <td>1</td>\n",
       "    </tr>\n",
       "    <tr>\n",
       "      <th>3</th>\n",
       "      <td>DALLAS</td>\n",
       "      <td>2017</td>\n",
       "      <td>65.0</td>\n",
       "      <td>1</td>\n",
       "      <td>1</td>\n",
       "      <td>0</td>\n",
       "      <td>25</td>\n",
       "      <td>0.000</td>\n",
       "      <td>0</td>\n",
       "      <td>0</td>\n",
       "      <td>...</td>\n",
       "      <td>0</td>\n",
       "      <td>0</td>\n",
       "      <td>0</td>\n",
       "      <td>0</td>\n",
       "      <td>0</td>\n",
       "      <td>0</td>\n",
       "      <td>0</td>\n",
       "      <td>0</td>\n",
       "      <td>1</td>\n",
       "      <td>1</td>\n",
       "    </tr>\n",
       "    <tr>\n",
       "      <th>4</th>\n",
       "      <td>DALLAS</td>\n",
       "      <td>2017</td>\n",
       "      <td>40.0</td>\n",
       "      <td>0</td>\n",
       "      <td>0</td>\n",
       "      <td>0</td>\n",
       "      <td>21</td>\n",
       "      <td>0.000</td>\n",
       "      <td>0</td>\n",
       "      <td>0</td>\n",
       "      <td>...</td>\n",
       "      <td>0</td>\n",
       "      <td>0</td>\n",
       "      <td>1</td>\n",
       "      <td>0</td>\n",
       "      <td>0</td>\n",
       "      <td>1</td>\n",
       "      <td>0</td>\n",
       "      <td>0</td>\n",
       "      <td>0</td>\n",
       "      <td>0</td>\n",
       "    </tr>\n",
       "  </tbody>\n",
       "</table>\n",
       "<p>5 rows × 27 columns</p>\n",
       "</div>"
      ],
      "text/plain": [
       "     City  Crash_Year  Speed_Limit Weather Timeofday  Unit_Death_Count  \\\n",
       "0  DALLAS        2017         45.0       1         0                 1   \n",
       "1  DALLAS        2017         65.0       1         1                 0   \n",
       "2  DALLAS        2017         65.0       1         1                 1   \n",
       "3  DALLAS        2017         65.0       1         1                 0   \n",
       "4  DALLAS        2017         40.0       0         0                 0   \n",
       "\n",
       "   Person_Age  Person_Blood_Alcohol_ContentTest Death_YorN  \\\n",
       "0          21                             0.000          1   \n",
       "1          28                             0.000          0   \n",
       "2          23                             0.144          1   \n",
       "3          25                             0.000          0   \n",
       "4          21                             0.000          0   \n",
       "\n",
       "   Vehicle_Color_BLACK  ...  Vehicle_Color_RED  Vehicle_Color_SILVER  \\\n",
       "0                    1  ...                  0                     0   \n",
       "1                    0  ...                  0                     0   \n",
       "2                    0  ...                  0                     0   \n",
       "3                    0  ...                  0                     0   \n",
       "4                    0  ...                  0                     0   \n",
       "\n",
       "   Vehicle_Color_WHITE  Vehicle_Color_YELLOW  Person_Ethnicity_ASIAN  \\\n",
       "0                    0                     0                       0   \n",
       "1                    0                     0                       0   \n",
       "2                    1                     0                       0   \n",
       "3                    0                     0                       0   \n",
       "4                    1                     0                       0   \n",
       "\n",
       "   Person_Ethnicity_BLACK  Person_Ethnicity_HISPANIC  Person_Ethnicity_OTHER  \\\n",
       "0                       1                          0                       0   \n",
       "1                       1                          0                       0   \n",
       "2                       1                          0                       0   \n",
       "3                       0                          0                       0   \n",
       "4                       1                          0                       0   \n",
       "\n",
       "   Person_Ethnicity_WHITE  Person_Gender_MALE  \n",
       "0                       0                   1  \n",
       "1                       0                   0  \n",
       "2                       0                   1  \n",
       "3                       1                   1  \n",
       "4                       0                   0  \n",
       "\n",
       "[5 rows x 27 columns]"
      ]
     },
     "execution_count": 58,
     "metadata": {},
     "output_type": "execute_result"
    }
   ],
   "source": [
    "# Transform the dummy variables for Dallas; dropping one to get n-1 dummy variables for model fitting\n",
    "dummy_cols =['Vehicle_Color', 'Person_Ethnicity', 'Person_Gender']\n",
    "dallas = pd.get_dummies(Dallas, columns=dummy_cols, drop_first = True)\n",
    "dallas.head()"
   ]
  },
  {
   "cell_type": "code",
   "execution_count": 59,
   "metadata": {},
   "outputs": [
    {
     "data": {
      "text/html": [
       "<div>\n",
       "<style scoped>\n",
       "    .dataframe tbody tr th:only-of-type {\n",
       "        vertical-align: middle;\n",
       "    }\n",
       "\n",
       "    .dataframe tbody tr th {\n",
       "        vertical-align: top;\n",
       "    }\n",
       "\n",
       "    .dataframe thead th {\n",
       "        text-align: right;\n",
       "    }\n",
       "</style>\n",
       "<table border=\"1\" class=\"dataframe\">\n",
       "  <thead>\n",
       "    <tr style=\"text-align: right;\">\n",
       "      <th></th>\n",
       "      <th>Crash_Year</th>\n",
       "      <th>Speed_Limit</th>\n",
       "      <th>Weather</th>\n",
       "      <th>Timeofday</th>\n",
       "      <th>Unit_Death_Count</th>\n",
       "      <th>Person_Age</th>\n",
       "      <th>Person_Blood_Alcohol_ContentTest</th>\n",
       "      <th>Death_YorN</th>\n",
       "      <th>Vehicle_Color_BLACK</th>\n",
       "      <th>Vehicle_Color_BLUE</th>\n",
       "      <th>...</th>\n",
       "      <th>Vehicle_Color_RED</th>\n",
       "      <th>Vehicle_Color_SILVER</th>\n",
       "      <th>Vehicle_Color_WHITE</th>\n",
       "      <th>Vehicle_Color_YELLOW</th>\n",
       "      <th>Person_Ethnicity_ASIAN</th>\n",
       "      <th>Person_Ethnicity_BLACK</th>\n",
       "      <th>Person_Ethnicity_HISPANIC</th>\n",
       "      <th>Person_Ethnicity_OTHER</th>\n",
       "      <th>Person_Ethnicity_WHITE</th>\n",
       "      <th>Person_Gender_MALE</th>\n",
       "    </tr>\n",
       "  </thead>\n",
       "  <tbody>\n",
       "    <tr>\n",
       "      <th>0</th>\n",
       "      <td>2017</td>\n",
       "      <td>45.0</td>\n",
       "      <td>1</td>\n",
       "      <td>0</td>\n",
       "      <td>1</td>\n",
       "      <td>21</td>\n",
       "      <td>0.000</td>\n",
       "      <td>1</td>\n",
       "      <td>1</td>\n",
       "      <td>0</td>\n",
       "      <td>...</td>\n",
       "      <td>0</td>\n",
       "      <td>0</td>\n",
       "      <td>0</td>\n",
       "      <td>0</td>\n",
       "      <td>0</td>\n",
       "      <td>1</td>\n",
       "      <td>0</td>\n",
       "      <td>0</td>\n",
       "      <td>0</td>\n",
       "      <td>1</td>\n",
       "    </tr>\n",
       "    <tr>\n",
       "      <th>1</th>\n",
       "      <td>2017</td>\n",
       "      <td>65.0</td>\n",
       "      <td>1</td>\n",
       "      <td>1</td>\n",
       "      <td>0</td>\n",
       "      <td>28</td>\n",
       "      <td>0.000</td>\n",
       "      <td>0</td>\n",
       "      <td>0</td>\n",
       "      <td>0</td>\n",
       "      <td>...</td>\n",
       "      <td>0</td>\n",
       "      <td>0</td>\n",
       "      <td>0</td>\n",
       "      <td>0</td>\n",
       "      <td>0</td>\n",
       "      <td>1</td>\n",
       "      <td>0</td>\n",
       "      <td>0</td>\n",
       "      <td>0</td>\n",
       "      <td>0</td>\n",
       "    </tr>\n",
       "    <tr>\n",
       "      <th>2</th>\n",
       "      <td>2017</td>\n",
       "      <td>65.0</td>\n",
       "      <td>1</td>\n",
       "      <td>1</td>\n",
       "      <td>1</td>\n",
       "      <td>23</td>\n",
       "      <td>0.144</td>\n",
       "      <td>1</td>\n",
       "      <td>0</td>\n",
       "      <td>0</td>\n",
       "      <td>...</td>\n",
       "      <td>0</td>\n",
       "      <td>0</td>\n",
       "      <td>1</td>\n",
       "      <td>0</td>\n",
       "      <td>0</td>\n",
       "      <td>1</td>\n",
       "      <td>0</td>\n",
       "      <td>0</td>\n",
       "      <td>0</td>\n",
       "      <td>1</td>\n",
       "    </tr>\n",
       "    <tr>\n",
       "      <th>3</th>\n",
       "      <td>2017</td>\n",
       "      <td>65.0</td>\n",
       "      <td>1</td>\n",
       "      <td>1</td>\n",
       "      <td>0</td>\n",
       "      <td>25</td>\n",
       "      <td>0.000</td>\n",
       "      <td>0</td>\n",
       "      <td>0</td>\n",
       "      <td>1</td>\n",
       "      <td>...</td>\n",
       "      <td>0</td>\n",
       "      <td>0</td>\n",
       "      <td>0</td>\n",
       "      <td>0</td>\n",
       "      <td>0</td>\n",
       "      <td>0</td>\n",
       "      <td>0</td>\n",
       "      <td>0</td>\n",
       "      <td>1</td>\n",
       "      <td>1</td>\n",
       "    </tr>\n",
       "    <tr>\n",
       "      <th>4</th>\n",
       "      <td>2017</td>\n",
       "      <td>40.0</td>\n",
       "      <td>0</td>\n",
       "      <td>0</td>\n",
       "      <td>0</td>\n",
       "      <td>21</td>\n",
       "      <td>0.000</td>\n",
       "      <td>0</td>\n",
       "      <td>0</td>\n",
       "      <td>0</td>\n",
       "      <td>...</td>\n",
       "      <td>0</td>\n",
       "      <td>0</td>\n",
       "      <td>1</td>\n",
       "      <td>0</td>\n",
       "      <td>0</td>\n",
       "      <td>1</td>\n",
       "      <td>0</td>\n",
       "      <td>0</td>\n",
       "      <td>0</td>\n",
       "      <td>0</td>\n",
       "    </tr>\n",
       "  </tbody>\n",
       "</table>\n",
       "<p>5 rows × 26 columns</p>\n",
       "</div>"
      ],
      "text/plain": [
       "   Crash_Year  Speed_Limit Weather Timeofday  Unit_Death_Count  Person_Age  \\\n",
       "0        2017         45.0       1         0                 1          21   \n",
       "1        2017         65.0       1         1                 0          28   \n",
       "2        2017         65.0       1         1                 1          23   \n",
       "3        2017         65.0       1         1                 0          25   \n",
       "4        2017         40.0       0         0                 0          21   \n",
       "\n",
       "   Person_Blood_Alcohol_ContentTest Death_YorN  Vehicle_Color_BLACK  \\\n",
       "0                             0.000          1                    1   \n",
       "1                             0.000          0                    0   \n",
       "2                             0.144          1                    0   \n",
       "3                             0.000          0                    0   \n",
       "4                             0.000          0                    0   \n",
       "\n",
       "   Vehicle_Color_BLUE  ...  Vehicle_Color_RED  Vehicle_Color_SILVER  \\\n",
       "0                   0  ...                  0                     0   \n",
       "1                   0  ...                  0                     0   \n",
       "2                   0  ...                  0                     0   \n",
       "3                   1  ...                  0                     0   \n",
       "4                   0  ...                  0                     0   \n",
       "\n",
       "   Vehicle_Color_WHITE  Vehicle_Color_YELLOW  Person_Ethnicity_ASIAN  \\\n",
       "0                    0                     0                       0   \n",
       "1                    0                     0                       0   \n",
       "2                    1                     0                       0   \n",
       "3                    0                     0                       0   \n",
       "4                    1                     0                       0   \n",
       "\n",
       "   Person_Ethnicity_BLACK  Person_Ethnicity_HISPANIC  Person_Ethnicity_OTHER  \\\n",
       "0                       1                          0                       0   \n",
       "1                       1                          0                       0   \n",
       "2                       1                          0                       0   \n",
       "3                       0                          0                       0   \n",
       "4                       1                          0                       0   \n",
       "\n",
       "   Person_Ethnicity_WHITE  Person_Gender_MALE  \n",
       "0                       0                   1  \n",
       "1                       0                   0  \n",
       "2                       0                   1  \n",
       "3                       1                   1  \n",
       "4                       0                   0  \n",
       "\n",
       "[5 rows x 26 columns]"
      ]
     },
     "execution_count": 59,
     "metadata": {},
     "output_type": "execute_result"
    },
    {
     "data": {
      "text/plain": [
       "5392"
      ]
     },
     "execution_count": 59,
     "metadata": {},
     "output_type": "execute_result"
    }
   ],
   "source": [
    "#We don't need the city variable anymore\n",
    "dallas_data = dallas.drop('City', axis=1)\n",
    "dallas_data.head()\n",
    "len(dallas_data)"
   ]
  },
  {
   "cell_type": "code",
   "execution_count": 26,
   "metadata": {},
   "outputs": [
    {
     "data": {
      "text/html": [
       "<div>\n",
       "<style scoped>\n",
       "    .dataframe tbody tr th:only-of-type {\n",
       "        vertical-align: middle;\n",
       "    }\n",
       "\n",
       "    .dataframe tbody tr th {\n",
       "        vertical-align: top;\n",
       "    }\n",
       "\n",
       "    .dataframe thead th {\n",
       "        text-align: right;\n",
       "    }\n",
       "</style>\n",
       "<table border=\"1\" class=\"dataframe\">\n",
       "  <thead>\n",
       "    <tr style=\"text-align: right;\">\n",
       "      <th></th>\n",
       "      <th>City</th>\n",
       "      <th>Crash_Year</th>\n",
       "      <th>Speed_Limit</th>\n",
       "      <th>Weather</th>\n",
       "      <th>Timeofday</th>\n",
       "      <th>Unit_Death_Count</th>\n",
       "      <th>Person_Age</th>\n",
       "      <th>Person_Blood_Alcohol_ContentTest</th>\n",
       "      <th>Death_YorN</th>\n",
       "      <th>Vehicle_Color_BLACK</th>\n",
       "      <th>...</th>\n",
       "      <th>Vehicle_Color_RED</th>\n",
       "      <th>Vehicle_Color_SILVER</th>\n",
       "      <th>Vehicle_Color_WHITE</th>\n",
       "      <th>Vehicle_Color_YELLOW</th>\n",
       "      <th>Person_Ethnicity_ASIAN</th>\n",
       "      <th>Person_Ethnicity_BLACK</th>\n",
       "      <th>Person_Ethnicity_HISPANIC</th>\n",
       "      <th>Person_Ethnicity_OTHER</th>\n",
       "      <th>Person_Ethnicity_WHITE</th>\n",
       "      <th>Person_Gender_MALE</th>\n",
       "    </tr>\n",
       "  </thead>\n",
       "  <tbody>\n",
       "    <tr>\n",
       "      <th>5392</th>\n",
       "      <td>HOUSTON</td>\n",
       "      <td>2017</td>\n",
       "      <td>30.0</td>\n",
       "      <td>0</td>\n",
       "      <td>1</td>\n",
       "      <td>1</td>\n",
       "      <td>24</td>\n",
       "      <td>0.278</td>\n",
       "      <td>1</td>\n",
       "      <td>0</td>\n",
       "      <td>...</td>\n",
       "      <td>0</td>\n",
       "      <td>0</td>\n",
       "      <td>1</td>\n",
       "      <td>0</td>\n",
       "      <td>0</td>\n",
       "      <td>0</td>\n",
       "      <td>1</td>\n",
       "      <td>0</td>\n",
       "      <td>0</td>\n",
       "      <td>1</td>\n",
       "    </tr>\n",
       "    <tr>\n",
       "      <th>5393</th>\n",
       "      <td>HOUSTON</td>\n",
       "      <td>2017</td>\n",
       "      <td>40.0</td>\n",
       "      <td>0</td>\n",
       "      <td>0</td>\n",
       "      <td>1</td>\n",
       "      <td>22</td>\n",
       "      <td>0.000</td>\n",
       "      <td>1</td>\n",
       "      <td>0</td>\n",
       "      <td>...</td>\n",
       "      <td>0</td>\n",
       "      <td>0</td>\n",
       "      <td>1</td>\n",
       "      <td>0</td>\n",
       "      <td>0</td>\n",
       "      <td>1</td>\n",
       "      <td>0</td>\n",
       "      <td>0</td>\n",
       "      <td>0</td>\n",
       "      <td>1</td>\n",
       "    </tr>\n",
       "    <tr>\n",
       "      <th>5394</th>\n",
       "      <td>HOUSTON</td>\n",
       "      <td>2017</td>\n",
       "      <td>60.0</td>\n",
       "      <td>1</td>\n",
       "      <td>1</td>\n",
       "      <td>1</td>\n",
       "      <td>30</td>\n",
       "      <td>0.000</td>\n",
       "      <td>1</td>\n",
       "      <td>0</td>\n",
       "      <td>...</td>\n",
       "      <td>0</td>\n",
       "      <td>0</td>\n",
       "      <td>1</td>\n",
       "      <td>0</td>\n",
       "      <td>0</td>\n",
       "      <td>1</td>\n",
       "      <td>0</td>\n",
       "      <td>0</td>\n",
       "      <td>0</td>\n",
       "      <td>1</td>\n",
       "    </tr>\n",
       "    <tr>\n",
       "      <th>5395</th>\n",
       "      <td>HOUSTON</td>\n",
       "      <td>2017</td>\n",
       "      <td>60.0</td>\n",
       "      <td>1</td>\n",
       "      <td>1</td>\n",
       "      <td>1</td>\n",
       "      <td>32</td>\n",
       "      <td>0.090</td>\n",
       "      <td>1</td>\n",
       "      <td>0</td>\n",
       "      <td>...</td>\n",
       "      <td>0</td>\n",
       "      <td>0</td>\n",
       "      <td>0</td>\n",
       "      <td>1</td>\n",
       "      <td>0</td>\n",
       "      <td>0</td>\n",
       "      <td>0</td>\n",
       "      <td>0</td>\n",
       "      <td>1</td>\n",
       "      <td>1</td>\n",
       "    </tr>\n",
       "    <tr>\n",
       "      <th>5396</th>\n",
       "      <td>HOUSTON</td>\n",
       "      <td>2017</td>\n",
       "      <td>60.0</td>\n",
       "      <td>1</td>\n",
       "      <td>1</td>\n",
       "      <td>0</td>\n",
       "      <td>45</td>\n",
       "      <td>0.000</td>\n",
       "      <td>0</td>\n",
       "      <td>0</td>\n",
       "      <td>...</td>\n",
       "      <td>0</td>\n",
       "      <td>0</td>\n",
       "      <td>1</td>\n",
       "      <td>0</td>\n",
       "      <td>0</td>\n",
       "      <td>0</td>\n",
       "      <td>1</td>\n",
       "      <td>0</td>\n",
       "      <td>0</td>\n",
       "      <td>1</td>\n",
       "    </tr>\n",
       "  </tbody>\n",
       "</table>\n",
       "<p>5 rows × 27 columns</p>\n",
       "</div>"
      ],
      "text/plain": [
       "         City  Crash_Year  Speed_Limit Weather Timeofday  Unit_Death_Count  \\\n",
       "5392  HOUSTON        2017         30.0       0         1                 1   \n",
       "5393  HOUSTON        2017         40.0       0         0                 1   \n",
       "5394  HOUSTON        2017         60.0       1         1                 1   \n",
       "5395  HOUSTON        2017         60.0       1         1                 1   \n",
       "5396  HOUSTON        2017         60.0       1         1                 0   \n",
       "\n",
       "      Person_Age  Person_Blood_Alcohol_ContentTest Death_YorN  \\\n",
       "5392          24                             0.278          1   \n",
       "5393          22                             0.000          1   \n",
       "5394          30                             0.000          1   \n",
       "5395          32                             0.090          1   \n",
       "5396          45                             0.000          0   \n",
       "\n",
       "      Vehicle_Color_BLACK  ...  Vehicle_Color_RED  Vehicle_Color_SILVER  \\\n",
       "5392                    0  ...                  0                     0   \n",
       "5393                    0  ...                  0                     0   \n",
       "5394                    0  ...                  0                     0   \n",
       "5395                    0  ...                  0                     0   \n",
       "5396                    0  ...                  0                     0   \n",
       "\n",
       "      Vehicle_Color_WHITE  Vehicle_Color_YELLOW  Person_Ethnicity_ASIAN  \\\n",
       "5392                    1                     0                       0   \n",
       "5393                    1                     0                       0   \n",
       "5394                    1                     0                       0   \n",
       "5395                    0                     1                       0   \n",
       "5396                    1                     0                       0   \n",
       "\n",
       "      Person_Ethnicity_BLACK  Person_Ethnicity_HISPANIC  \\\n",
       "5392                       0                          1   \n",
       "5393                       1                          0   \n",
       "5394                       1                          0   \n",
       "5395                       0                          0   \n",
       "5396                       0                          1   \n",
       "\n",
       "      Person_Ethnicity_OTHER  Person_Ethnicity_WHITE  Person_Gender_MALE  \n",
       "5392                       0                       0                   1  \n",
       "5393                       0                       0                   1  \n",
       "5394                       0                       0                   1  \n",
       "5395                       0                       1                   1  \n",
       "5396                       0                       0                   1  \n",
       "\n",
       "[5 rows x 27 columns]"
      ]
     },
     "execution_count": 26,
     "metadata": {},
     "output_type": "execute_result"
    }
   ],
   "source": [
    "# Transform the dummy variables for Houston; dropping one to get n-1 dummy variables for model fitting\n",
    "dummy_cols =['Vehicle_Color', 'Person_Ethnicity', 'Person_Gender']\n",
    "houston = pd.get_dummies(Houston, columns=dummy_cols, drop_first = True)\n",
    "houston.head()"
   ]
  },
  {
   "cell_type": "code",
   "execution_count": 27,
   "metadata": {},
   "outputs": [
    {
     "data": {
      "text/html": [
       "<div>\n",
       "<style scoped>\n",
       "    .dataframe tbody tr th:only-of-type {\n",
       "        vertical-align: middle;\n",
       "    }\n",
       "\n",
       "    .dataframe tbody tr th {\n",
       "        vertical-align: top;\n",
       "    }\n",
       "\n",
       "    .dataframe thead th {\n",
       "        text-align: right;\n",
       "    }\n",
       "</style>\n",
       "<table border=\"1\" class=\"dataframe\">\n",
       "  <thead>\n",
       "    <tr style=\"text-align: right;\">\n",
       "      <th></th>\n",
       "      <th>Crash_Year</th>\n",
       "      <th>Speed_Limit</th>\n",
       "      <th>Weather</th>\n",
       "      <th>Timeofday</th>\n",
       "      <th>Unit_Death_Count</th>\n",
       "      <th>Person_Age</th>\n",
       "      <th>Person_Blood_Alcohol_ContentTest</th>\n",
       "      <th>Death_YorN</th>\n",
       "      <th>Vehicle_Color_BLACK</th>\n",
       "      <th>Vehicle_Color_BLUE</th>\n",
       "      <th>...</th>\n",
       "      <th>Vehicle_Color_RED</th>\n",
       "      <th>Vehicle_Color_SILVER</th>\n",
       "      <th>Vehicle_Color_WHITE</th>\n",
       "      <th>Vehicle_Color_YELLOW</th>\n",
       "      <th>Person_Ethnicity_ASIAN</th>\n",
       "      <th>Person_Ethnicity_BLACK</th>\n",
       "      <th>Person_Ethnicity_HISPANIC</th>\n",
       "      <th>Person_Ethnicity_OTHER</th>\n",
       "      <th>Person_Ethnicity_WHITE</th>\n",
       "      <th>Person_Gender_MALE</th>\n",
       "    </tr>\n",
       "  </thead>\n",
       "  <tbody>\n",
       "    <tr>\n",
       "      <th>5392</th>\n",
       "      <td>2017</td>\n",
       "      <td>30.0</td>\n",
       "      <td>0</td>\n",
       "      <td>1</td>\n",
       "      <td>1</td>\n",
       "      <td>24</td>\n",
       "      <td>0.278</td>\n",
       "      <td>1</td>\n",
       "      <td>0</td>\n",
       "      <td>0</td>\n",
       "      <td>...</td>\n",
       "      <td>0</td>\n",
       "      <td>0</td>\n",
       "      <td>1</td>\n",
       "      <td>0</td>\n",
       "      <td>0</td>\n",
       "      <td>0</td>\n",
       "      <td>1</td>\n",
       "      <td>0</td>\n",
       "      <td>0</td>\n",
       "      <td>1</td>\n",
       "    </tr>\n",
       "    <tr>\n",
       "      <th>5393</th>\n",
       "      <td>2017</td>\n",
       "      <td>40.0</td>\n",
       "      <td>0</td>\n",
       "      <td>0</td>\n",
       "      <td>1</td>\n",
       "      <td>22</td>\n",
       "      <td>0.000</td>\n",
       "      <td>1</td>\n",
       "      <td>0</td>\n",
       "      <td>0</td>\n",
       "      <td>...</td>\n",
       "      <td>0</td>\n",
       "      <td>0</td>\n",
       "      <td>1</td>\n",
       "      <td>0</td>\n",
       "      <td>0</td>\n",
       "      <td>1</td>\n",
       "      <td>0</td>\n",
       "      <td>0</td>\n",
       "      <td>0</td>\n",
       "      <td>1</td>\n",
       "    </tr>\n",
       "    <tr>\n",
       "      <th>5394</th>\n",
       "      <td>2017</td>\n",
       "      <td>60.0</td>\n",
       "      <td>1</td>\n",
       "      <td>1</td>\n",
       "      <td>1</td>\n",
       "      <td>30</td>\n",
       "      <td>0.000</td>\n",
       "      <td>1</td>\n",
       "      <td>0</td>\n",
       "      <td>0</td>\n",
       "      <td>...</td>\n",
       "      <td>0</td>\n",
       "      <td>0</td>\n",
       "      <td>1</td>\n",
       "      <td>0</td>\n",
       "      <td>0</td>\n",
       "      <td>1</td>\n",
       "      <td>0</td>\n",
       "      <td>0</td>\n",
       "      <td>0</td>\n",
       "      <td>1</td>\n",
       "    </tr>\n",
       "    <tr>\n",
       "      <th>5395</th>\n",
       "      <td>2017</td>\n",
       "      <td>60.0</td>\n",
       "      <td>1</td>\n",
       "      <td>1</td>\n",
       "      <td>1</td>\n",
       "      <td>32</td>\n",
       "      <td>0.090</td>\n",
       "      <td>1</td>\n",
       "      <td>0</td>\n",
       "      <td>0</td>\n",
       "      <td>...</td>\n",
       "      <td>0</td>\n",
       "      <td>0</td>\n",
       "      <td>0</td>\n",
       "      <td>1</td>\n",
       "      <td>0</td>\n",
       "      <td>0</td>\n",
       "      <td>0</td>\n",
       "      <td>0</td>\n",
       "      <td>1</td>\n",
       "      <td>1</td>\n",
       "    </tr>\n",
       "    <tr>\n",
       "      <th>5396</th>\n",
       "      <td>2017</td>\n",
       "      <td>60.0</td>\n",
       "      <td>1</td>\n",
       "      <td>1</td>\n",
       "      <td>0</td>\n",
       "      <td>45</td>\n",
       "      <td>0.000</td>\n",
       "      <td>0</td>\n",
       "      <td>0</td>\n",
       "      <td>0</td>\n",
       "      <td>...</td>\n",
       "      <td>0</td>\n",
       "      <td>0</td>\n",
       "      <td>1</td>\n",
       "      <td>0</td>\n",
       "      <td>0</td>\n",
       "      <td>0</td>\n",
       "      <td>1</td>\n",
       "      <td>0</td>\n",
       "      <td>0</td>\n",
       "      <td>1</td>\n",
       "    </tr>\n",
       "  </tbody>\n",
       "</table>\n",
       "<p>5 rows × 26 columns</p>\n",
       "</div>"
      ],
      "text/plain": [
       "      Crash_Year  Speed_Limit Weather Timeofday  Unit_Death_Count  Person_Age  \\\n",
       "5392        2017         30.0       0         1                 1          24   \n",
       "5393        2017         40.0       0         0                 1          22   \n",
       "5394        2017         60.0       1         1                 1          30   \n",
       "5395        2017         60.0       1         1                 1          32   \n",
       "5396        2017         60.0       1         1                 0          45   \n",
       "\n",
       "      Person_Blood_Alcohol_ContentTest Death_YorN  Vehicle_Color_BLACK  \\\n",
       "5392                             0.278          1                    0   \n",
       "5393                             0.000          1                    0   \n",
       "5394                             0.000          1                    0   \n",
       "5395                             0.090          1                    0   \n",
       "5396                             0.000          0                    0   \n",
       "\n",
       "      Vehicle_Color_BLUE  ...  Vehicle_Color_RED  Vehicle_Color_SILVER  \\\n",
       "5392                   0  ...                  0                     0   \n",
       "5393                   0  ...                  0                     0   \n",
       "5394                   0  ...                  0                     0   \n",
       "5395                   0  ...                  0                     0   \n",
       "5396                   0  ...                  0                     0   \n",
       "\n",
       "      Vehicle_Color_WHITE  Vehicle_Color_YELLOW  Person_Ethnicity_ASIAN  \\\n",
       "5392                    1                     0                       0   \n",
       "5393                    1                     0                       0   \n",
       "5394                    1                     0                       0   \n",
       "5395                    0                     1                       0   \n",
       "5396                    1                     0                       0   \n",
       "\n",
       "      Person_Ethnicity_BLACK  Person_Ethnicity_HISPANIC  \\\n",
       "5392                       0                          1   \n",
       "5393                       1                          0   \n",
       "5394                       1                          0   \n",
       "5395                       0                          0   \n",
       "5396                       0                          1   \n",
       "\n",
       "      Person_Ethnicity_OTHER  Person_Ethnicity_WHITE  Person_Gender_MALE  \n",
       "5392                       0                       0                   1  \n",
       "5393                       0                       0                   1  \n",
       "5394                       0                       0                   1  \n",
       "5395                       0                       1                   1  \n",
       "5396                       0                       0                   1  \n",
       "\n",
       "[5 rows x 26 columns]"
      ]
     },
     "execution_count": 27,
     "metadata": {},
     "output_type": "execute_result"
    },
    {
     "data": {
      "text/plain": [
       "6084"
      ]
     },
     "execution_count": 27,
     "metadata": {},
     "output_type": "execute_result"
    }
   ],
   "source": [
    "houston_data = houston.drop('City', axis=1)\n",
    "houston_data.head()\n",
    "len(houston_data)"
   ]
  },
  {
   "cell_type": "code",
   "execution_count": 60,
   "metadata": {},
   "outputs": [],
   "source": [
    "## DALLAS DATASET\n",
    "## Converting categorical variables to numeric for regression\n",
    "dallas_data['Weather'] = dallas_data.Weather.astype('uint8')\n",
    "dallas_data['Timeofday'] = dallas_data.Timeofday.astype('uint8')\n",
    "dallas_data['Death_YorN'] = dallas_data.Death_YorN.astype('uint8')"
   ]
  },
  {
   "cell_type": "code",
   "execution_count": 61,
   "metadata": {},
   "outputs": [],
   "source": [
    "## HOUSTON DATASET\n",
    "## Converting categorical variables to numeric for regression\n",
    "houston_data['Weather'] = houston_data.Weather.astype('uint8')\n",
    "houston_data['Timeofday'] = houston_data.Timeofday.astype('uint8')\n",
    "houston_data['Death_YorN'] = houston_data.Death_YorN.astype('uint8')"
   ]
  },
  {
   "cell_type": "markdown",
   "metadata": {},
   "source": [
    "### Predictive Modeling"
   ]
  },
  {
   "cell_type": "markdown",
   "metadata": {},
   "source": [
    "<p style=\"font-family: Arial; font-size:1.25em;color:#2462C0; font-style:bold\">\n",
    "**************************  Linear Regression  **************************</p>"
   ]
  },
  {
   "cell_type": "markdown",
   "metadata": {},
   "source": [
    "##### Train-Test Split"
   ]
  },
  {
   "cell_type": "code",
   "execution_count": 62,
   "metadata": {},
   "outputs": [],
   "source": [
    "# DALLAS DATASET\n",
    "## generate the independent variable and dependent variable\n",
    "X_dallas = dallas_data.drop(['Unit_Death_Count','Death_YorN'], axis = 1)\n",
    "y_dallas = dallas_data['Unit_Death_Count']\n",
    "## generate train and test datasets\n",
    "from sklearn.model_selection import train_test_split\n",
    "X_train_d, X_test_d, y_train_d, y_test_d=train_test_split(X_dallas, y_dallas, test_size=0.2,random_state=42)"
   ]
  },
  {
   "cell_type": "code",
   "execution_count": 63,
   "metadata": {},
   "outputs": [],
   "source": [
    "# HOUSTON DATASET\n",
    "## generate the independent variable and dependent variable\n",
    "X_houston = houston_data.drop(['Unit_Death_Count','Death_YorN'], axis = 1)\n",
    "y_houston = houston_data['Unit_Death_Count']\n",
    "## generate train and test datasets\n",
    "from sklearn.model_selection import train_test_split\n",
    "X_train_h, X_test_h, y_train_h, y_test_h=train_test_split(X_houston, y_houston, test_size=0.2,random_state=42)"
   ]
  },
  {
   "cell_type": "markdown",
   "metadata": {},
   "source": [
    "###### DALLAS DATASET"
   ]
  },
  {
   "cell_type": "code",
   "execution_count": 32,
   "metadata": {},
   "outputs": [
    {
     "data": {
      "text/plain": [
       "LinearRegression()"
      ]
     },
     "execution_count": 32,
     "metadata": {},
     "output_type": "execute_result"
    },
    {
     "data": {
      "text/plain": [
       "array([0.52254191, 0.38669586, 0.39413357, ..., 0.73090439, 0.77014601,\n",
       "       0.47801741])"
      ]
     },
     "execution_count": 32,
     "metadata": {},
     "output_type": "execute_result"
    },
    {
     "data": {
      "text/plain": [
       "(1079,)"
      ]
     },
     "execution_count": 32,
     "metadata": {},
     "output_type": "execute_result"
    }
   ],
   "source": [
    "# DALLAS DATASET\n",
    "## fit linear model on training dataset\n",
    "from sklearn.linear_model import LinearRegression\n",
    "regressor=LinearRegression()\n",
    "regressor.fit(X_train_d, y_train_d)\n",
    "\n",
    "## predicting with the test dataset\n",
    "y_prediction_d=regressor.predict(X_test_d)\n",
    "y_prediction_d\n",
    "y_prediction_d.shape"
   ]
  },
  {
   "cell_type": "code",
   "execution_count": 33,
   "metadata": {},
   "outputs": [
    {
     "name": "stdout",
     "output_type": "stream",
     "text": [
      "                            OLS Regression Results                            \n",
      "==============================================================================\n",
      "Dep. Variable:       Unit_Death_Count   R-squared:                       0.093\n",
      "Model:                            OLS   Adj. R-squared:                  0.088\n",
      "Method:                 Least Squares   F-statistic:                     18.26\n",
      "Date:                Tue, 24 Nov 2020   Prob (F-statistic):           1.30e-73\n",
      "Time:                        21:00:02   Log-Likelihood:                -3539.6\n",
      "No. Observations:                4313   AIC:                             7129.\n",
      "Df Residuals:                    4288   BIC:                             7289.\n",
      "Df Model:                          24                                         \n",
      "Covariance Type:            nonrobust                                         \n",
      "====================================================================================================\n",
      "                                       coef    std err          t      P>|t|      [0.025      0.975]\n",
      "----------------------------------------------------------------------------------------------------\n",
      "const                                4.5293     21.878      0.207      0.836     -38.363      47.422\n",
      "Crash_Year                          -0.0021      0.011     -0.194      0.846      -0.023       0.019\n",
      "Speed_Limit                         -0.0038      0.001     -6.416      0.000      -0.005      -0.003\n",
      "Weather                              0.0076      0.019      0.404      0.686      -0.029       0.044\n",
      "Timeofday                            0.0232      0.020      1.182      0.237      -0.015       0.062\n",
      "Person_Age                           0.0028      0.001      4.974      0.000       0.002       0.004\n",
      "Person_Blood_Alcohol_ContentTest     2.3045      0.137     16.771      0.000       2.035       2.574\n",
      "Vehicle_Color_BLACK                 -0.0145      0.080     -0.182      0.856      -0.171       0.142\n",
      "Vehicle_Color_BLUE                   0.0019      0.082      0.023      0.982      -0.159       0.163\n",
      "Vehicle_Color_BROWN                 -0.2239      0.110     -2.029      0.043      -0.440      -0.008\n",
      "Vehicle_Color_GOLD                  -0.0920      0.093     -0.995      0.320      -0.273       0.089\n",
      "Vehicle_Color_GRAY                  -0.0517      0.081     -0.635      0.525      -0.211       0.108\n",
      "Vehicle_Color_GREEN                  0.0005      0.092      0.005      0.996      -0.180       0.181\n",
      "Vehicle_Color_MAROON                -0.0895      0.098     -0.915      0.360      -0.281       0.102\n",
      "Vehicle_Color_OTHER                 -0.0128      0.088     -0.145      0.885      -0.186       0.160\n",
      "Vehicle_Color_RED                   -0.1246      0.083     -1.495      0.135      -0.288       0.039\n",
      "Vehicle_Color_SILVER                -0.0457      0.083     -0.548      0.584      -0.209       0.118\n",
      "Vehicle_Color_WHITE                 -0.0213      0.078     -0.272      0.786      -0.174       0.132\n",
      "Vehicle_Color_YELLOW                -0.2402      0.125     -1.926      0.054      -0.485       0.004\n",
      "Person_Ethnicity_ASIAN               0.2500      0.160      1.561      0.119      -0.064       0.564\n",
      "Person_Ethnicity_BLACK               0.3541      0.149      2.376      0.018       0.062       0.646\n",
      "Person_Ethnicity_HISPANIC            0.2733      0.149      1.835      0.067      -0.019       0.565\n",
      "Person_Ethnicity_OTHER               0.2931      0.153      1.911      0.056      -0.008       0.594\n",
      "Person_Ethnicity_WHITE               0.3719      0.149      2.492      0.013       0.079       0.664\n",
      "Person_Gender_MALE                  -0.0001      0.019     -0.007      0.994      -0.037       0.037\n",
      "==============================================================================\n",
      "Omnibus:                      391.607   Durbin-Watson:                   2.008\n",
      "Prob(Omnibus):                  0.000   Jarque-Bera (JB):              525.143\n",
      "Skew:                           0.756   Prob(JB):                    9.26e-115\n",
      "Kurtosis:                       3.796   Cond. No.                     5.26e+06\n",
      "==============================================================================\n",
      "\n",
      "Warnings:\n",
      "[1] Standard Errors assume that the covariance matrix of the errors is correctly specified.\n",
      "[2] The condition number is large, 5.26e+06. This might indicate that there are\n",
      "strong multicollinearity or other numerical problems.\n"
     ]
    }
   ],
   "source": [
    "# DALLAS REGRESSION SUMMARY\n",
    "# For better interpretation of linear regression model, consider statsmodels package\n",
    "import statsmodels.api as sm\n",
    "\n",
    "# Add a constant\n",
    "X_train_d = sm.add_constant(X_train_d)\n",
    "\n",
    "# Fit and summarize OLS model\n",
    "mod = sm.OLS(y_train_d, X_train_d)\n",
    "res = mod.fit()\n",
    "print(res.summary())"
   ]
  },
  {
   "cell_type": "markdown",
   "metadata": {},
   "source": [
    "##### HOUSTON DATASET"
   ]
  },
  {
   "cell_type": "code",
   "execution_count": 34,
   "metadata": {},
   "outputs": [
    {
     "data": {
      "text/plain": [
       "array([0.6470531 , 1.1594512 , 0.48702579, ..., 0.59118217, 0.61173826,\n",
       "       0.6620674 ])"
      ]
     },
     "execution_count": 34,
     "metadata": {},
     "output_type": "execute_result"
    },
    {
     "data": {
      "text/plain": [
       "(1217,)"
      ]
     },
     "execution_count": 34,
     "metadata": {},
     "output_type": "execute_result"
    }
   ],
   "source": [
    "## predicting with the test dataset\n",
    "y_prediction_h=regressor.predict(X_test_h)\n",
    "y_prediction_h\n",
    "y_prediction_h.shape"
   ]
  },
  {
   "cell_type": "code",
   "execution_count": 35,
   "metadata": {},
   "outputs": [
    {
     "name": "stdout",
     "output_type": "stream",
     "text": [
      "                            OLS Regression Results                            \n",
      "==============================================================================\n",
      "Dep. Variable:       Unit_Death_Count   R-squared:                       0.074\n",
      "Model:                            OLS   Adj. R-squared:                  0.070\n",
      "Method:                 Least Squares   F-statistic:                     16.91\n",
      "Date:                Tue, 24 Nov 2020   Prob (F-statistic):           2.64e-65\n",
      "Time:                        21:00:02   Log-Likelihood:                -4082.4\n",
      "No. Observations:                4867   AIC:                             8213.\n",
      "Df Residuals:                    4843   BIC:                             8369.\n",
      "Df Model:                          23                                         \n",
      "Covariance Type:            nonrobust                                         \n",
      "====================================================================================================\n",
      "                                       coef    std err          t      P>|t|      [0.025      0.975]\n",
      "----------------------------------------------------------------------------------------------------\n",
      "const                               55.3066     16.233      3.407      0.001      23.483      87.130\n",
      "Crash_Year                          -0.0327      0.010     -3.390      0.001      -0.052      -0.014\n",
      "Speed_Limit                         -0.0023      0.001     -3.284      0.001      -0.004      -0.001\n",
      "Weather                             -0.0041      0.018     -0.228      0.820      -0.040       0.032\n",
      "Timeofday                            0.0133      0.018      0.758      0.449      -0.021       0.048\n",
      "Person_Age                           0.0019      0.001      3.806      0.000       0.001       0.003\n",
      "Person_Blood_Alcohol_ContentTest     1.4463      0.126     11.503      0.000       1.200       1.693\n",
      "Vehicle_Color_BLACK                  0.2868      0.077      3.720      0.000       0.136       0.438\n",
      "Vehicle_Color_BLUE                   0.2151      0.081      2.665      0.008       0.057       0.373\n",
      "Vehicle_Color_BROWN                  0.1385      0.117      1.183      0.237      -0.091       0.368\n",
      "Vehicle_Color_GOLD                   0.3118      0.097      3.229      0.001       0.122       0.501\n",
      "Vehicle_Color_GRAY                   0.1129      0.079      1.428      0.153      -0.042       0.268\n",
      "Vehicle_Color_GREEN                  0.3419      0.099      3.445      0.001       0.147       0.536\n",
      "Vehicle_Color_MAROON                 0.1749      0.091      1.932      0.053      -0.003       0.352\n",
      "Vehicle_Color_OTHER                  0.1103      0.090      1.222      0.222      -0.067       0.287\n",
      "Vehicle_Color_RED                    0.2755      0.080      3.427      0.001       0.118       0.433\n",
      "Vehicle_Color_SILVER                 0.2087      0.079      2.651      0.008       0.054       0.363\n",
      "Vehicle_Color_WHITE                  0.3457      0.076      4.533      0.000       0.196       0.495\n",
      "Vehicle_Color_YELLOW                 0.4339      0.106      4.110      0.000       0.227       0.641\n",
      "Person_Ethnicity_ASIAN              11.1078      3.248      3.420      0.001       4.740      17.475\n",
      "Person_Ethnicity_BLACK              10.9520      3.246      3.374      0.001       4.588      17.316\n",
      "Person_Ethnicity_HISPANIC           10.9924      3.246      3.386      0.001       4.628      17.357\n",
      "Person_Ethnicity_OTHER              11.2963      3.247      3.479      0.001       4.932      17.661\n",
      "Person_Ethnicity_WHITE              10.9581      3.246      3.376      0.001       4.594      17.322\n",
      "Person_Gender_MALE                   0.0354      0.018      2.005      0.045       0.001       0.070\n",
      "==============================================================================\n",
      "Omnibus:                      348.053   Durbin-Watson:                   2.047\n",
      "Prob(Omnibus):                  0.000   Jarque-Bera (JB):              436.405\n",
      "Skew:                           0.667   Prob(JB):                     1.72e-95\n",
      "Kurtosis:                       3.612   Cond. No.                     1.51e+19\n",
      "==============================================================================\n",
      "\n",
      "Warnings:\n",
      "[1] Standard Errors assume that the covariance matrix of the errors is correctly specified.\n",
      "[2] The smallest eigenvalue is 8.67e-29. This might indicate that there are\n",
      "strong multicollinearity problems or that the design matrix is singular.\n"
     ]
    }
   ],
   "source": [
    "# HOUSTON REGRESSION SUMMARY\n",
    "# For better interpretation of linear regression model, consider statsmodels package\n",
    "import statsmodels.api as sm\n",
    "\n",
    "# Add a constant\n",
    "X_train_h = sm.add_constant(X_train_h)\n",
    "\n",
    "# Fit and summarize OLS model\n",
    "mod = sm.OLS(y_train_h, X_train_h)\n",
    "res = mod.fit()\n",
    "print(res.summary())"
   ]
  },
  {
   "cell_type": "markdown",
   "metadata": {},
   "source": [
    "##### RMSE: DALLAS vs HOUSTON"
   ]
  },
  {
   "cell_type": "code",
   "execution_count": 36,
   "metadata": {},
   "outputs": [
    {
     "name": "stdout",
     "output_type": "stream",
     "text": [
      "Dallas RMSE: 0.5449590434056079\n"
     ]
    }
   ],
   "source": [
    "### Calculate RootMSE\n",
    "#DALLAS\n",
    "from math import sqrt\n",
    "from sklearn.metrics import mean_squared_error\n",
    "RMSElinear_d=sqrt(mean_squared_error(y_true=y_test_d,y_pred=y_prediction_d))\n",
    "print(\"Dallas RMSE:\", RMSElinear_d)"
   ]
  },
  {
   "cell_type": "code",
   "execution_count": 37,
   "metadata": {},
   "outputs": [
    {
     "name": "stdout",
     "output_type": "stream",
     "text": [
      "Houston RMSE: 0.5836733260075452\n"
     ]
    }
   ],
   "source": [
    "RMSElinear_h=sqrt(mean_squared_error(y_true=y_test_h,y_pred=y_prediction_h))\n",
    "print(\"Houston RMSE:\", RMSElinear_h)"
   ]
  },
  {
   "cell_type": "markdown",
   "metadata": {},
   "source": [
    "#### Evaluation Using Cross-Validation: DALLAS vs HOUSTON"
   ]
  },
  {
   "cell_type": "code",
   "execution_count": 38,
   "metadata": {},
   "outputs": [],
   "source": [
    "from sklearn.model_selection import cross_val_score\n",
    "scores_d = cross_val_score(regressor, X_train_d, y_train_d, scoring=\"neg_mean_squared_error\", cv=5)\n",
    "d_rmse_scores = np.sqrt(-scores_d)"
   ]
  },
  {
   "cell_type": "code",
   "execution_count": 39,
   "metadata": {},
   "outputs": [
    {
     "name": "stdout",
     "output_type": "stream",
     "text": [
      "********DALLAS********\n",
      "Scores: [0.57234609 0.55854014 0.54021685 0.54104613 0.55503445]\n",
      "Mean: 0.5534367302317309\n",
      "Standard deviation: 0.011953688545891924\n"
     ]
    }
   ],
   "source": [
    "def display_scores(scores):\n",
    "    print(\"Scores:\", scores)\n",
    "    print(\"Mean:\", scores.mean())\n",
    "    print(\"Standard deviation:\", scores.std())\n",
    "\n",
    "print(\"********DALLAS********\")    \n",
    "display_scores(d_rmse_scores)"
   ]
  },
  {
   "cell_type": "code",
   "execution_count": 40,
   "metadata": {},
   "outputs": [],
   "source": [
    "scores_h = cross_val_score(regressor, X_train_h, y_train_h, scoring=\"neg_mean_squared_error\", cv=5)\n",
    "h_rmse_scores = np.sqrt(-scores_h)"
   ]
  },
  {
   "cell_type": "code",
   "execution_count": 41,
   "metadata": {},
   "outputs": [
    {
     "name": "stdout",
     "output_type": "stream",
     "text": [
      "*********HOUSTON********\n",
      "Scores: [0.56383655 0.56936412 0.54915874 0.56914135 0.5648962 ]\n",
      "Mean: 0.5632793926641184\n",
      "Standard deviation: 0.00739869834936592\n"
     ]
    }
   ],
   "source": [
    "print(\"*********HOUSTON********\")\n",
    "display_scores(h_rmse_scores)"
   ]
  },
  {
   "cell_type": "markdown",
   "metadata": {},
   "source": [
    "<p style=\"font-family: Arial; font-size:1.25em;color:#2462C0; font-style:bold\">\n",
    "**************************  Logistic Regression  **************************</p>"
   ]
  },
  {
   "cell_type": "markdown",
   "metadata": {},
   "source": [
    "##### Train-Test Split"
   ]
  },
  {
   "cell_type": "code",
   "execution_count": 42,
   "metadata": {},
   "outputs": [],
   "source": [
    "# DALLAS DATASET\n",
    "## generate the independent variable and dependent variable\n",
    "X_dallas_2 = dallas_data.drop(['Unit_Death_Count','Death_YorN'], axis = 1)\n",
    "y_dallas_2 = dallas_data['Death_YorN']\n",
    "## generate train and test datasets\n",
    "from sklearn.model_selection import train_test_split\n",
    "X_train_dl, X_test_dl, y_train_dl, y_test_dl=train_test_split(X_dallas_2, y_dallas_2, test_size=0.2,random_state=42)"
   ]
  },
  {
   "cell_type": "code",
   "execution_count": 43,
   "metadata": {},
   "outputs": [],
   "source": [
    "# HOUSTON DATASET\n",
    "## generate the independent variable and dependent variable\n",
    "X_houston_2 = houston_data.drop(['Unit_Death_Count','Death_YorN'], axis = 1)\n",
    "y_houston_2 = houston_data['Death_YorN']\n",
    "## generate train and test datasets\n",
    "from sklearn.model_selection import train_test_split\n",
    "X_train_hl, X_test_hl, y_train_hl, y_test_hl=train_test_split(X_houston_2, y_houston_2, test_size=0.2,random_state=42)"
   ]
  },
  {
   "cell_type": "markdown",
   "metadata": {},
   "source": [
    "###### DALLAS DATASET"
   ]
  },
  {
   "cell_type": "code",
   "execution_count": 44,
   "metadata": {},
   "outputs": [
    {
     "name": "stdout",
     "output_type": "stream",
     "text": [
      "Optimization terminated successfully.\n",
      "         Current function value: 40.889929\n",
      "         Iterations 7\n"
     ]
    }
   ],
   "source": [
    "log_reg_d = sm.Logit(y_train_dl, X_train_dl).fit()"
   ]
  },
  {
   "cell_type": "code",
   "execution_count": 45,
   "metadata": {},
   "outputs": [
    {
     "name": "stdout",
     "output_type": "stream",
     "text": [
      "                           Logit Regression Results                           \n",
      "==============================================================================\n",
      "Dep. Variable:             Death_YorN   No. Observations:                 4313\n",
      "Model:                          Logit   Df Residuals:                     4289\n",
      "Method:                           MLE   Df Model:                           23\n",
      "Date:                Tue, 24 Nov 2020   Pseudo R-squ.:                     inf\n",
      "Time:                        21:00:10   Log-Likelihood:            -1.7636e+05\n",
      "converged:                       True   LL-Null:                        0.0000\n",
      "Covariance Type:            nonrobust   LLR p-value:                     1.000\n",
      "====================================================================================================\n",
      "                                       coef    std err          z      P>|z|      [0.025      0.975]\n",
      "----------------------------------------------------------------------------------------------------\n",
      "Crash_Year                          -0.0005      0.000     -1.214      0.225      -0.001       0.000\n",
      "Speed_Limit                         -0.0142      0.002     -6.154      0.000      -0.019      -0.010\n",
      "Weather                              0.0214      0.073      0.292      0.770      -0.122       0.165\n",
      "Timeofday                           -0.0774      0.074     -1.041      0.298      -0.223       0.068\n",
      "Person_Age                           0.0152      0.002      7.101      0.000       0.011       0.019\n",
      "Person_Blood_Alcohol_ContentTest    15.5498      1.047     14.851      0.000      13.498      17.602\n",
      "Vehicle_Color_BLACK                 -0.4186      0.319     -1.312      0.190      -1.044       0.207\n",
      "Vehicle_Color_BLUE                  -0.0905      0.327     -0.276      0.782      -0.732       0.551\n",
      "Vehicle_Color_BROWN                 -1.0322      0.457     -2.261      0.024      -1.927      -0.137\n",
      "Vehicle_Color_GOLD                  -0.3554      0.369     -0.962      0.336      -1.079       0.368\n",
      "Vehicle_Color_GRAY                  -0.3726      0.325     -1.148      0.251      -1.009       0.264\n",
      "Vehicle_Color_GREEN                  0.0026      0.365      0.007      0.994      -0.713       0.718\n",
      "Vehicle_Color_MAROON                -0.3826      0.385     -0.994      0.320      -1.137       0.372\n",
      "Vehicle_Color_OTHER                 -0.1711      0.351     -0.488      0.626      -0.858       0.516\n",
      "Vehicle_Color_RED                   -0.6370      0.334     -1.909      0.056      -1.291       0.017\n",
      "Vehicle_Color_SILVER                -0.4543      0.333     -1.364      0.173      -1.107       0.199\n",
      "Vehicle_Color_WHITE                 -0.1231      0.314     -0.392      0.695      -0.738       0.492\n",
      "Vehicle_Color_YELLOW                -1.0218      0.488     -2.095      0.036      -1.978      -0.066\n",
      "Person_Ethnicity_ASIAN               1.0780      0.800      1.348      0.178      -0.490       2.646\n",
      "Person_Ethnicity_BLACK               1.4288      0.767      1.863      0.062      -0.074       2.932\n",
      "Person_Ethnicity_HISPANIC            1.1033      0.767      1.439      0.150      -0.400       2.606\n",
      "Person_Ethnicity_OTHER               0.9316      0.781      1.192      0.233      -0.600       2.463\n",
      "Person_Ethnicity_WHITE               1.4584      0.768      1.900      0.057      -0.046       2.963\n",
      "Person_Gender_MALE                   0.0467      0.073      0.643      0.520      -0.096       0.189\n",
      "====================================================================================================\n"
     ]
    },
    {
     "name": "stderr",
     "output_type": "stream",
     "text": [
      "/Users/bobbyfajardo/opt/anaconda3/lib/python3.8/site-packages/statsmodels/base/model.py:547: HessianInversionWarning: Inverting hessian failed, no bse or cov_params available\n",
      "  warn('Inverting hessian failed, no bse or cov_params '\n",
      "/Users/bobbyfajardo/opt/anaconda3/lib/python3.8/site-packages/statsmodels/base/model.py:547: HessianInversionWarning: Inverting hessian failed, no bse or cov_params available\n",
      "  warn('Inverting hessian failed, no bse or cov_params '\n",
      "/Users/bobbyfajardo/opt/anaconda3/lib/python3.8/site-packages/statsmodels/discrete/discrete_model.py:3409: RuntimeWarning: divide by zero encountered in double_scalars\n",
      "  return 1 - self.llf/self.llnull\n"
     ]
    }
   ],
   "source": [
    "print(log_reg_d.summary())"
   ]
  },
  {
   "cell_type": "code",
   "execution_count": 46,
   "metadata": {},
   "outputs": [],
   "source": [
    "# performing predictions on the test datdaset \n",
    "yhat_d = log_reg_d.predict(X_test_dl) \n",
    "prediction_d = list(map(round, yhat_d)) \n",
    "  \n",
    "# comparing original and predicted values of y \n",
    "#print('Acutal values', list(y_test_dl.values)) \n",
    "#print('Predictions :', prediction_d) "
   ]
  },
  {
   "cell_type": "markdown",
   "metadata": {},
   "source": [
    "# Odds Ratio Estimates - Dallas"
   ]
  },
  {
   "cell_type": "code",
   "execution_count": 47,
   "metadata": {},
   "outputs": [
    {
     "name": "stdout",
     "output_type": "stream",
     "text": [
      "                                             5%           95%    Odds Ratio\n",
      "Crash_Year                             0.998665  1.000314e+00  9.994893e-01\n",
      "Speed_Limit                            0.981399  9.903417e-01  9.858603e-01\n",
      "Weather                                0.885282  1.178899e+00  1.021596e+00\n",
      "Timeofday                              0.800040  1.070743e+00  9.255474e-01\n",
      "Person_Age                             1.011082  1.019615e+00  1.015340e+00\n",
      "Person_Blood_Alcohol_ContentTest  727642.230612  4.410245e+07  5.664874e+06\n",
      "Vehicle_Color_BLACK                    0.351987  1.229846e+00  6.579434e-01\n",
      "Vehicle_Color_BLUE                     0.480887  1.735236e+00  9.134838e-01\n",
      "Vehicle_Color_BROWN                    0.145590  8.715789e-01  3.562208e-01\n",
      "Vehicle_Color_GOLD                     0.339859  1.445399e+00  7.008791e-01\n",
      "Vehicle_Color_GRAY                     0.364643  1.301531e+00  6.889078e-01\n",
      "Vehicle_Color_GREEN                    0.490311  2.050029e+00  1.002573e+00\n",
      "Vehicle_Color_MAROON                   0.320718  1.450486e+00  6.820530e-01\n",
      "Vehicle_Color_OTHER                    0.423819  1.675749e+00  8.427419e-01\n",
      "Vehicle_Color_RED                      0.275026  1.017017e+00  5.288725e-01\n",
      "Vehicle_Color_SILVER                   0.330461  1.219664e+00  6.348629e-01\n",
      "Vehicle_Color_WHITE                    0.478014  1.635523e+00  8.841962e-01\n",
      "Vehicle_Color_YELLOW                   0.138412  9.361116e-01  3.599567e-01\n",
      "Person_Ethnicity_ASIAN                 0.612750  1.409524e+01  2.938853e+00\n",
      "Person_Ethnicity_BLACK                 0.928325  1.876591e+01  4.173830e+00\n",
      "Person_Ethnicity_HISPANIC              0.670425  1.355013e+01  3.014025e+00\n",
      "Person_Ethnicity_OTHER                 0.548878  1.174088e+01  2.538565e+00\n",
      "Person_Ethnicity_WHITE                 0.955037  1.935116e+01  4.298962e+00\n",
      "Person_Gender_MALE                     0.908783  1.208185e+00  1.047845e+00\n"
     ]
    }
   ],
   "source": [
    "estimates = log_reg_d.params\n",
    "intervals = log_reg_d.conf_int()\n",
    "intervals['Odds Ratio'] = estimates\n",
    "intervals.columns = ['5%', '95%', 'Odds Ratio']\n",
    "print(np.exp(intervals))"
   ]
  },
  {
   "cell_type": "markdown",
   "metadata": {},
   "source": [
    "##### HOUSTON DATASET"
   ]
  },
  {
   "cell_type": "code",
   "execution_count": 48,
   "metadata": {},
   "outputs": [
    {
     "name": "stdout",
     "output_type": "stream",
     "text": [
      "Optimization terminated successfully.\n",
      "         Current function value: 32.874581\n",
      "         Iterations 7\n"
     ]
    }
   ],
   "source": [
    "log_reg_h = sm.Logit(y_train_hl, X_train_hl).fit()"
   ]
  },
  {
   "cell_type": "code",
   "execution_count": 49,
   "metadata": {
    "scrolled": true
   },
   "outputs": [
    {
     "name": "stdout",
     "output_type": "stream",
     "text": [
      "                           Logit Regression Results                           \n",
      "==============================================================================\n",
      "Dep. Variable:             Death_YorN   No. Observations:                 4867\n",
      "Model:                          Logit   Df Residuals:                     4843\n",
      "Method:                           MLE   Df Model:                           23\n",
      "Date:                Tue, 24 Nov 2020   Pseudo R-squ.:                     inf\n",
      "Time:                        21:00:13   Log-Likelihood:            -1.6000e+05\n",
      "converged:                       True   LL-Null:                        0.0000\n",
      "Covariance Type:            nonrobust   LLR p-value:                     1.000\n",
      "====================================================================================================\n",
      "                                       coef    std err          z      P>|z|      [0.025      0.975]\n",
      "----------------------------------------------------------------------------------------------------\n",
      "Crash_Year                          -0.0681      0.036     -1.872      0.061      -0.139       0.003\n",
      "Speed_Limit                         -0.0078      0.003     -2.906      0.004      -0.013      -0.003\n",
      "Weather                              0.0212      0.069      0.308      0.758      -0.114       0.156\n",
      "Timeofday                            0.0092      0.065      0.141      0.888      -0.119       0.137\n",
      "Person_Age                           0.0142      0.002      7.484      0.000       0.011       0.018\n",
      "Person_Blood_Alcohol_ContentTest     8.4045      0.649     12.959      0.000       7.133       9.676\n",
      "Vehicle_Color_BLACK                  1.1643      0.317      3.678      0.000       0.544       1.785\n",
      "Vehicle_Color_BLUE                   0.6847      0.329      2.083      0.037       0.040       1.329\n",
      "Vehicle_Color_BROWN                  0.6754      0.463      1.458      0.145      -0.233       1.583\n",
      "Vehicle_Color_GOLD                   1.0879      0.381      2.852      0.004       0.340       1.836\n",
      "Vehicle_Color_GRAY                   0.5488      0.324      1.696      0.090      -0.085       1.183\n",
      "Vehicle_Color_GREEN                  1.3625      0.394      3.456      0.001       0.590       2.135\n",
      "Vehicle_Color_MAROON                 0.7988      0.363      2.202      0.028       0.088       1.510\n",
      "Vehicle_Color_OTHER                  0.2006      0.367      0.546      0.585      -0.520       0.921\n",
      "Vehicle_Color_RED                    0.9857      0.328      3.008      0.003       0.343       1.628\n",
      "Vehicle_Color_SILVER                 0.6339      0.322      1.967      0.049       0.002       1.266\n",
      "Vehicle_Color_WHITE                  1.4958      0.314      4.765      0.000       0.881       2.111\n",
      "Vehicle_Color_YELLOW                 0.7750      0.415      1.870      0.062      -0.037       1.587\n",
      "Person_Ethnicity_ASIAN             136.3253     73.444      1.856      0.063      -7.622     280.272\n",
      "Person_Ethnicity_BLACK             135.9538     73.437      1.851      0.064      -7.979     279.887\n",
      "Person_Ethnicity_HISPANIC          135.9791     73.438      1.852      0.064      -7.956     279.914\n",
      "Person_Ethnicity_OTHER             136.8466     73.437      1.863      0.062      -7.087     280.780\n",
      "Person_Ethnicity_WHITE             135.8860     73.437      1.850      0.064      -8.049     279.821\n",
      "Person_Gender_MALE                   0.1789      0.066      2.711      0.007       0.050       0.308\n",
      "====================================================================================================\n"
     ]
    },
    {
     "name": "stderr",
     "output_type": "stream",
     "text": [
      "/Users/bobbyfajardo/opt/anaconda3/lib/python3.8/site-packages/statsmodels/base/model.py:547: HessianInversionWarning: Inverting hessian failed, no bse or cov_params available\n",
      "  warn('Inverting hessian failed, no bse or cov_params '\n",
      "/Users/bobbyfajardo/opt/anaconda3/lib/python3.8/site-packages/statsmodels/base/model.py:547: HessianInversionWarning: Inverting hessian failed, no bse or cov_params available\n",
      "  warn('Inverting hessian failed, no bse or cov_params '\n",
      "/Users/bobbyfajardo/opt/anaconda3/lib/python3.8/site-packages/statsmodels/discrete/discrete_model.py:3409: RuntimeWarning: divide by zero encountered in double_scalars\n",
      "  return 1 - self.llf/self.llnull\n"
     ]
    }
   ],
   "source": [
    "print(log_reg_h.summary())"
   ]
  },
  {
   "cell_type": "code",
   "execution_count": 50,
   "metadata": {},
   "outputs": [],
   "source": [
    "# performing predictions on the test datdaset \n",
    "yhat_h = log_reg_h.predict(X_test_hl) \n",
    "prediction_h = list(map(round, yhat_h)) "
   ]
  },
  {
   "cell_type": "markdown",
   "metadata": {},
   "source": [
    "# Odds Ratio Estimates - Houston"
   ]
  },
  {
   "cell_type": "code",
   "execution_count": 51,
   "metadata": {},
   "outputs": [
    {
     "name": "stdout",
     "output_type": "stream",
     "text": [
      "                                           5%            95%    Odds Ratio\n",
      "Crash_Year                           0.869878   1.003222e+00  9.341737e-01\n",
      "Speed_Limit                          0.986990   9.974581e-01  9.922103e-01\n",
      "Weather                              0.892467   1.168989e+00  1.021413e+00\n",
      "Timeofday                            0.887773   1.147335e+00  1.009244e+00\n",
      "Person_Age                           1.010568   1.018136e+00  1.014345e+00\n",
      "Person_Blood_Alcohol_ContentTest  1253.101734   1.592338e+04  4.466947e+03\n",
      "Vehicle_Color_BLACK                  1.722677   5.958329e+00  3.203791e+00\n",
      "Vehicle_Color_BLUE                   1.041295   3.777256e+00  1.983239e+00\n",
      "Vehicle_Color_BROWN                  0.792463   4.871651e+00  1.964841e+00\n",
      "Vehicle_Color_GOLD                   1.405355   6.268371e+00  2.968044e+00\n",
      "Vehicle_Color_GRAY                   0.918177   3.263992e+00  1.731162e+00\n",
      "Vehicle_Color_GREEN                  1.803445   8.459366e+00  3.905893e+00\n",
      "Vehicle_Color_MAROON                 1.091642   4.525909e+00  2.222763e+00\n",
      "Vehicle_Color_OTHER                  0.594767   2.511350e+00  1.222157e+00\n",
      "Vehicle_Color_RED                    1.409806   5.093455e+00  2.679699e+00\n",
      "Vehicle_Color_SILVER                 1.002270   3.545154e+00  1.884994e+00\n",
      "Vehicle_Color_WHITE                  2.412265   8.257030e+00  4.462975e+00\n",
      "Vehicle_Color_YELLOW                 0.963211   4.891128e+00  2.170527e+00\n",
      "Person_Ethnicity_ASIAN               0.000490  5.257063e+121  1.604441e+59\n",
      "Person_Ethnicity_BLACK               0.000343  3.575173e+121  1.106581e+59\n",
      "Person_Ethnicity_HISPANIC            0.000351  3.674470e+121  1.134952e+59\n",
      "Person_Ethnicity_OTHER               0.000836  8.736160e+121  2.702134e+59\n",
      "Person_Ethnicity_WHITE               0.000320  3.346326e+121  1.034057e+59\n",
      "Person_Gender_MALE                   1.050798   1.361156e+00  1.195951e+00\n"
     ]
    }
   ],
   "source": [
    "estimates = log_reg_h.params\n",
    "intervals = log_reg_h.conf_int()\n",
    "intervals['Odds Ratio'] = estimates\n",
    "intervals.columns = ['5%', '95%', 'Odds Ratio']\n",
    "print(np.exp(intervals))"
   ]
  },
  {
   "cell_type": "markdown",
   "metadata": {},
   "source": [
    "##### DALLAS: Accuracy & Confusion Matrix"
   ]
  },
  {
   "cell_type": "code",
   "execution_count": 52,
   "metadata": {},
   "outputs": [
    {
     "name": "stdout",
     "output_type": "stream",
     "text": [
      "Confusion Matrix :\n"
     ]
    },
    {
     "data": {
      "text/plain": [
       "array([[372, 162],\n",
       "       [212, 333]])"
      ]
     },
     "execution_count": 52,
     "metadata": {},
     "output_type": "execute_result"
    },
    {
     "name": "stdout",
     "output_type": "stream",
     "text": [
      "Test accuracy =  0.6311399443929564\n"
     ]
    }
   ],
   "source": [
    "# Testing the accuracy of the model\n",
    "from sklearn.metrics import (confusion_matrix, accuracy_score) \n",
    "  \n",
    "# confusion matrix\n",
    "print (\"Confusion Matrix :\")\n",
    "confusion_matrix(y_true=y_test_dl, y_pred=prediction_d)    \n",
    "  \n",
    "# accuracy score of the model \n",
    "print('Test accuracy = ', accuracy_score(y_test_d, prediction_d))"
   ]
  },
  {
   "cell_type": "code",
   "execution_count": 53,
   "metadata": {},
   "outputs": [],
   "source": [
    "# label the confusion matrix\n",
    "labels = [1,0]\n",
    "cm_d = confusion_matrix(y_true=y_test_dl, y_pred=prediction_d, labels=labels)"
   ]
  },
  {
   "cell_type": "code",
   "execution_count": 54,
   "metadata": {},
   "outputs": [
    {
     "data": {
      "text/plain": [
       "<matplotlib.axes._subplots.AxesSubplot at 0x11a7ab280>"
      ]
     },
     "execution_count": 54,
     "metadata": {},
     "output_type": "execute_result"
    },
    {
     "data": {
      "image/png": "[encoded data removed]",
      "text/plain": [
       "<Figure size 432x288 with 2 Axes>"
      ]
     },
     "metadata": {
      "needs_background": "light"
     },
     "output_type": "display_data"
    }
   ],
   "source": [
    "# To plot it using seaborn package\n",
    "sns.heatmap(cm_d/np.sum(cm_d), annot=True, cmap='Blues')"
   ]
  },
  {
   "cell_type": "markdown",
   "metadata": {},
   "source": [
    "##### HOUSTON: Accuracy & Confusion Matrix"
   ]
  },
  {
   "cell_type": "code",
   "execution_count": 64,
   "metadata": {
    "scrolled": true
   },
   "outputs": [
    {
     "name": "stdout",
     "output_type": "stream",
     "text": [
      "Confusion Matrix :\n"
     ]
    },
    {
     "data": {
      "text/plain": [
       "array([[284, 246],\n",
       "       [235, 452]])"
      ]
     },
     "execution_count": 64,
     "metadata": {},
     "output_type": "execute_result"
    },
    {
     "name": "stdout",
     "output_type": "stream",
     "text": [
      "Test accuracy =  0.5883319638455218\n"
     ]
    }
   ],
   "source": [
    "# confusion matrix\n",
    "print (\"Confusion Matrix :\")\n",
    "confusion_matrix(y_true=y_test_hl, y_pred=prediction_h)    \n",
    "  \n",
    "# accuracy score of the model \n",
    "print('Test accuracy = ', accuracy_score(y_test_h, prediction_h))"
   ]
  },
  {
   "cell_type": "code",
   "execution_count": 65,
   "metadata": {},
   "outputs": [],
   "source": [
    "# label the confusion matrix\n",
    "labels = [1,0]\n",
    "cm_h = confusion_matrix(y_true=y_test_hl, y_pred=prediction_h, labels=labels)"
   ]
  },
  {
   "cell_type": "code",
   "execution_count": 66,
   "metadata": {},
   "outputs": [
    {
     "data": {
      "text/plain": [
       "<matplotlib.axes._subplots.AxesSubplot at 0x11a7ec730>"
      ]
     },
     "execution_count": 66,
     "metadata": {},
     "output_type": "execute_result"
    },
    {
     "data": {
      "image/png": "[encoded data removed]",
      "text/plain": [
       "<Figure size 432x288 with 2 Axes>"
      ]
     },
     "metadata": {
      "needs_background": "light"
     },
     "output_type": "display_data"
    }
   ],
   "source": [
    "# To plot it using seaborn package\n",
    "sns.heatmap(cm_h/np.sum(cm_h), annot=True, cmap='Reds')"
   ]
  },
  {
   "cell_type": "code",
   "execution_count": null,
   "metadata": {},
   "outputs": [],
   "source": []
  },
  {
   "cell_type": "code",
   "execution_count": null,
   "metadata": {},
   "outputs": [],
   "source": []
  }
 ],
 "metadata": {
  "kernelspec": {
   "display_name": "Python 3 (ipykernel)",
   "language": "python",
   "name": "python3"
  },
  "language_info": {
   "codemirror_mode": {
    "name": "ipython",
    "version": 3
   },
   "file_extension": ".py",
   "mimetype": "text/x-python",
   "name": "python",
   "nbconvert_exporter": "python",
   "pygments_lexer": "ipython3",
   "version": "3.9.6"
  }
 },
 "nbformat": 4,
 "nbformat_minor": 4
}
